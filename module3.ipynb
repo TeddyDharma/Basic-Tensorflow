{
 "cells": [
  {
   "cell_type": "code",
   "execution_count": 3,
   "metadata": {},
   "outputs": [],
   "source": [
    "#  this will discuss about machine learning algorithm \n",
    "#  core machine larning algorithn \n",
    "#  module 3 links : https://colab.research.google.com/drive/15Cyy2H7nT40sGR7TBN5wBvgTd57mVKay#forceEdit=true&sandboxMode=true&scrollTo=CpllWsKIOGOy"
   ]
  },
  {
   "cell_type": "markdown",
   "metadata": {},
   "source": [
    "Linear Regression"
   ]
  },
  {
   "cell_type": "code",
   "execution_count": 4,
   "metadata": {},
   "outputs": [
    {
     "data": {
      "image/png": "[encoded data removed]",
      "text/plain": [
       "<Figure size 640x480 with 1 Axes>"
      ]
     },
     "metadata": {},
     "output_type": "display_data"
    }
   ],
   "source": [
    "import matplotlib.pyplot as plt\n",
    "import numpy as np\n",
    "# nilai pada dataset\n",
    "x = np.array([1,2,3, 4,5])\n",
    "y = np.array([y * 2 + 0.5 for y in  x])\n",
    "plt.scatter(x,y,color=\"red\")\n",
    "\n",
    "\n",
    "#  garis yang dihasilkan model \n",
    "y1 = np.array([y * 2 for  y in x])\n",
    "plt.plot(x, y1, color=\"blue\")\n",
    "plt.show()\n",
    "#  simple linear regresionn"
   ]
  },
  {
   "cell_type": "code",
   "execution_count": 2,
   "metadata": {},
   "outputs": [],
   "source": [
    "#  library\n",
    "import tensorflow.compat.v2.feature_column as fc\n",
    "import pandas as pd\n",
    "import numpy as np \n",
    "import tensorflow as tf \n",
    "\n"
   ]
  },
  {
   "cell_type": "code",
   "execution_count": 5,
   "metadata": {},
   "outputs": [],
   "source": [
    "# data\n",
    "# Load dataset.\n",
    "dftrain = pd.read_csv('https://storage.googleapis.com/tf-datasets/titanic/train.csv') # training data\n",
    "dfeval = pd.read_csv('https://storage.googleapis.com/tf-datasets/titanic/eval.csv') # testing data\n",
    "#  \"remove the survived column  from dftrain and copy the survived column to y_train\"\n",
    "y_train = dftrain.pop('survived')\n",
    "#  same as y_train\n",
    "#  y train will become data testing \n",
    "y_eval = dfeval.pop('survived')\n",
    "#  if you looking for  data in spesific column use thiss : y_eval.loc[index]"
   ]
  },
  {
   "cell_type": "code",
   "execution_count": 6,
   "metadata": {},
   "outputs": [
    {
     "data": {
      "text/html": [
       "<div>\n",
       "<style scoped>\n",
       "    .dataframe tbody tr th:only-of-type {\n",
       "        vertical-align: middle;\n",
       "    }\n",
       "\n",
       "    .dataframe tbody tr th {\n",
       "        vertical-align: top;\n",
       "    }\n",
       "\n",
       "    .dataframe thead th {\n",
       "        text-align: right;\n",
       "    }\n",
       "</style>\n",
       "<table border=\"1\" class=\"dataframe\">\n",
       "  <thead>\n",
       "    <tr style=\"text-align: right;\">\n",
       "      <th></th>\n",
       "      <th>sex</th>\n",
       "      <th>age</th>\n",
       "      <th>n_siblings_spouses</th>\n",
       "      <th>parch</th>\n",
       "      <th>fare</th>\n",
       "      <th>class</th>\n",
       "      <th>deck</th>\n",
       "      <th>embark_town</th>\n",
       "      <th>alone</th>\n",
       "    </tr>\n",
       "  </thead>\n",
       "  <tbody>\n",
       "    <tr>\n",
       "      <th>0</th>\n",
       "      <td>male</td>\n",
       "      <td>35.0</td>\n",
       "      <td>0</td>\n",
       "      <td>0</td>\n",
       "      <td>8.0500</td>\n",
       "      <td>Third</td>\n",
       "      <td>unknown</td>\n",
       "      <td>Southampton</td>\n",
       "      <td>y</td>\n",
       "    </tr>\n",
       "    <tr>\n",
       "      <th>1</th>\n",
       "      <td>male</td>\n",
       "      <td>54.0</td>\n",
       "      <td>0</td>\n",
       "      <td>0</td>\n",
       "      <td>51.8625</td>\n",
       "      <td>First</td>\n",
       "      <td>E</td>\n",
       "      <td>Southampton</td>\n",
       "      <td>y</td>\n",
       "    </tr>\n",
       "    <tr>\n",
       "      <th>2</th>\n",
       "      <td>female</td>\n",
       "      <td>58.0</td>\n",
       "      <td>0</td>\n",
       "      <td>0</td>\n",
       "      <td>26.5500</td>\n",
       "      <td>First</td>\n",
       "      <td>C</td>\n",
       "      <td>Southampton</td>\n",
       "      <td>y</td>\n",
       "    </tr>\n",
       "    <tr>\n",
       "      <th>3</th>\n",
       "      <td>female</td>\n",
       "      <td>55.0</td>\n",
       "      <td>0</td>\n",
       "      <td>0</td>\n",
       "      <td>16.0000</td>\n",
       "      <td>Second</td>\n",
       "      <td>unknown</td>\n",
       "      <td>Southampton</td>\n",
       "      <td>y</td>\n",
       "    </tr>\n",
       "    <tr>\n",
       "      <th>4</th>\n",
       "      <td>male</td>\n",
       "      <td>34.0</td>\n",
       "      <td>0</td>\n",
       "      <td>0</td>\n",
       "      <td>13.0000</td>\n",
       "      <td>Second</td>\n",
       "      <td>D</td>\n",
       "      <td>Southampton</td>\n",
       "      <td>y</td>\n",
       "    </tr>\n",
       "  </tbody>\n",
       "</table>\n",
       "</div>"
      ],
      "text/plain": [
       "      sex   age  n_siblings_spouses  parch     fare   class     deck  \\\n",
       "0    male  35.0                   0      0   8.0500   Third  unknown   \n",
       "1    male  54.0                   0      0  51.8625   First        E   \n",
       "2  female  58.0                   0      0  26.5500   First        C   \n",
       "3  female  55.0                   0      0  16.0000  Second  unknown   \n",
       "4    male  34.0                   0      0  13.0000  Second        D   \n",
       "\n",
       "   embark_town alone  \n",
       "0  Southampton     y  \n",
       "1  Southampton     y  \n",
       "2  Southampton     y  \n",
       "3  Southampton     y  \n",
       "4  Southampton     y  "
      ]
     },
     "execution_count": 6,
     "metadata": {},
     "output_type": "execute_result"
    }
   ],
   "source": [
    "dfeval.head()"
   ]
  },
  {
   "cell_type": "code",
   "execution_count": 7,
   "metadata": {},
   "outputs": [
    {
     "data": {
      "text/html": [
       "<div>\n",
       "<style scoped>\n",
       "    .dataframe tbody tr th:only-of-type {\n",
       "        vertical-align: middle;\n",
       "    }\n",
       "\n",
       "    .dataframe tbody tr th {\n",
       "        vertical-align: top;\n",
       "    }\n",
       "\n",
       "    .dataframe thead th {\n",
       "        text-align: right;\n",
       "    }\n",
       "</style>\n",
       "<table border=\"1\" class=\"dataframe\">\n",
       "  <thead>\n",
       "    <tr style=\"text-align: right;\">\n",
       "      <th></th>\n",
       "      <th>sex</th>\n",
       "      <th>age</th>\n",
       "      <th>n_siblings_spouses</th>\n",
       "      <th>parch</th>\n",
       "      <th>fare</th>\n",
       "      <th>class</th>\n",
       "      <th>deck</th>\n",
       "      <th>embark_town</th>\n",
       "      <th>alone</th>\n",
       "    </tr>\n",
       "  </thead>\n",
       "  <tbody>\n",
       "    <tr>\n",
       "      <th>0</th>\n",
       "      <td>male</td>\n",
       "      <td>22.0</td>\n",
       "      <td>1</td>\n",
       "      <td>0</td>\n",
       "      <td>7.2500</td>\n",
       "      <td>Third</td>\n",
       "      <td>unknown</td>\n",
       "      <td>Southampton</td>\n",
       "      <td>n</td>\n",
       "    </tr>\n",
       "    <tr>\n",
       "      <th>1</th>\n",
       "      <td>female</td>\n",
       "      <td>38.0</td>\n",
       "      <td>1</td>\n",
       "      <td>0</td>\n",
       "      <td>71.2833</td>\n",
       "      <td>First</td>\n",
       "      <td>C</td>\n",
       "      <td>Cherbourg</td>\n",
       "      <td>n</td>\n",
       "    </tr>\n",
       "    <tr>\n",
       "      <th>2</th>\n",
       "      <td>female</td>\n",
       "      <td>26.0</td>\n",
       "      <td>0</td>\n",
       "      <td>0</td>\n",
       "      <td>7.9250</td>\n",
       "      <td>Third</td>\n",
       "      <td>unknown</td>\n",
       "      <td>Southampton</td>\n",
       "      <td>y</td>\n",
       "    </tr>\n",
       "    <tr>\n",
       "      <th>3</th>\n",
       "      <td>female</td>\n",
       "      <td>35.0</td>\n",
       "      <td>1</td>\n",
       "      <td>0</td>\n",
       "      <td>53.1000</td>\n",
       "      <td>First</td>\n",
       "      <td>C</td>\n",
       "      <td>Southampton</td>\n",
       "      <td>n</td>\n",
       "    </tr>\n",
       "    <tr>\n",
       "      <th>4</th>\n",
       "      <td>male</td>\n",
       "      <td>28.0</td>\n",
       "      <td>0</td>\n",
       "      <td>0</td>\n",
       "      <td>8.4583</td>\n",
       "      <td>Third</td>\n",
       "      <td>unknown</td>\n",
       "      <td>Queenstown</td>\n",
       "      <td>y</td>\n",
       "    </tr>\n",
       "  </tbody>\n",
       "</table>\n",
       "</div>"
      ],
      "text/plain": [
       "      sex   age  n_siblings_spouses  parch     fare  class     deck  \\\n",
       "0    male  22.0                   1      0   7.2500  Third  unknown   \n",
       "1  female  38.0                   1      0  71.2833  First        C   \n",
       "2  female  26.0                   0      0   7.9250  Third  unknown   \n",
       "3  female  35.0                   1      0  53.1000  First        C   \n",
       "4    male  28.0                   0      0   8.4583  Third  unknown   \n",
       "\n",
       "   embark_town alone  \n",
       "0  Southampton     n  \n",
       "1    Cherbourg     n  \n",
       "2  Southampton     y  \n",
       "3  Southampton     n  \n",
       "4   Queenstown     y  "
      ]
     },
     "execution_count": 7,
     "metadata": {},
     "output_type": "execute_result"
    }
   ],
   "source": [
    "# print five data from top \n",
    "dftrain.head()"
   ]
  },
  {
   "cell_type": "code",
   "execution_count": 8,
   "metadata": {},
   "outputs": [
    {
     "data": {
      "text/plain": [
       "(627, 9)"
      ]
     },
     "execution_count": 8,
     "metadata": {},
     "output_type": "execute_result"
    }
   ],
   "source": [
    "#  shape of data train \n",
    "dftrain.shape\n",
    "# (627, 9) means 627 rows and 9 columns"
   ]
  },
  {
   "cell_type": "code",
   "execution_count": 9,
   "metadata": {},
   "outputs": [
    {
     "data": {
      "text/plain": [
       "0    0\n",
       "1    0\n",
       "2    1\n",
       "3    1\n",
       "4    1\n",
       "Name: survived, dtype: int64"
      ]
     },
     "execution_count": 9,
     "metadata": {},
     "output_type": "execute_result"
    }
   ],
   "source": [
    "# print five data from top \n",
    "y_eval.head()\n"
   ]
  },
  {
   "cell_type": "code",
   "execution_count": 10,
   "metadata": {},
   "outputs": [
    {
     "data": {
      "text/plain": [
       "<Axes: >"
      ]
     },
     "execution_count": 10,
     "metadata": {},
     "output_type": "execute_result"
    },
    {
     "data": {
      "image/png": "[encoded data removed]",
      "text/plain": [
       "<Figure size 640x480 with 1 Axes>"
      ]
     },
     "metadata": {},
     "output_type": "display_data"
    }
   ],
   "source": [
    "#  create a histogram in age features\n",
    "dftrain.age.hist(bins=20)"
   ]
  },
  {
   "cell_type": "code",
   "execution_count": 11,
   "metadata": {},
   "outputs": [
    {
     "data": {
      "text/plain": [
       "<Axes: >"
      ]
     },
     "execution_count": 11,
     "metadata": {},
     "output_type": "execute_result"
    },
    {
     "data": {
      "image/png": "[encoded data removed]",
      "text/plain": [
       "<Figure size 640x480 with 1 Axes>"
      ]
     },
     "metadata": {},
     "output_type": "display_data"
    }
   ],
   "source": [
    "# count sex value and doing compare with hist\n",
    "\n",
    "dftrain.sex.value_counts().plot(kind=\"barh\")\n",
    "\n",
    "# barh = bar plot with horizonntal view"
   ]
  },
  {
   "cell_type": "code",
   "execution_count": 12,
   "metadata": {},
   "outputs": [
    {
     "data": {
      "text/plain": [
       "<Axes: >"
      ]
     },
     "execution_count": 12,
     "metadata": {},
     "output_type": "execute_result"
    },
    {
     "data": {
      "image/png": "[encoded data removed]",
      "text/plain": [
       "<Figure size 640x480 with 1 Axes>"
      ]
     },
     "metadata": {},
     "output_type": "display_data"
    }
   ],
   "source": [
    "#  coba lagi\n",
    "dftrain['sex'].value_counts().plot(kind='barh')\n",
    "\n"
   ]
  },
  {
   "cell_type": "code",
   "execution_count": 13,
   "metadata": {},
   "outputs": [
    {
     "data": {
      "text/plain": [
       "<Axes: >"
      ]
     },
     "execution_count": 13,
     "metadata": {},
     "output_type": "execute_result"
    },
    {
     "data": {
      "image/png": "[encoded data removed]",
      "text/plain": [
       "<Figure size 640x480 with 1 Axes>"
      ]
     },
     "metadata": {},
     "output_type": "display_data"
    }
   ],
   "source": [
    "#  count class column using barh \n",
    "dftrain['class'].value_counts().plot(kind=\"barh\")\n"
   ]
  },
  {
   "cell_type": "code",
   "execution_count": 14,
   "metadata": {},
   "outputs": [
    {
     "data": {
      "text/plain": [
       "Text(0.5, 0, '% survive')"
      ]
     },
     "execution_count": 14,
     "metadata": {},
     "output_type": "execute_result"
    },
    {
     "data": {
      "image/png": "[encoded data removed]",
      "text/plain": [
       "<Figure size 640x480 with 1 Axes>"
      ]
     },
     "metadata": {},
     "output_type": "display_data"
    }
   ],
   "source": [
    "#  menggunakan concat\n",
    "#  review materi \n",
    "pd.concat([dftrain, y_train],axis=1).groupby('sex').survived.mean().plot(kind='barh').set_xlabel(\"% survive\")\n"
   ]
  },
  {
   "cell_type": "code",
   "execution_count": 15,
   "metadata": {},
   "outputs": [
    {
     "data": {
      "text/plain": [
       "Text(0.5, 0, '% survived')"
      ]
     },
     "execution_count": 15,
     "metadata": {},
     "output_type": "execute_result"
    },
    {
     "data": {
      "image/png": "[encoded data removed]",
      "text/plain": [
       "<Figure size 640x480 with 1 Axes>"
      ]
     },
     "metadata": {},
     "output_type": "display_data"
    }
   ],
   "source": [
    "#  display average survived person group by sex\n",
    "pd.concat([dftrain, y_train],axis = 1).groupby(\"sex\").survived.mean().plot(kind=\"barh\").set_xlabel(\"% survived\")\n",
    "#  axis = 1 its mean column,so if you remove axis parameter it will contain 0 value which is mean \"row\"\n"
   ]
  },
  {
   "cell_type": "code",
   "execution_count": 16,
   "metadata": {},
   "outputs": [
    {
     "data": {
      "text/html": [
       "<div>\n",
       "<style scoped>\n",
       "    .dataframe tbody tr th:only-of-type {\n",
       "        vertical-align: middle;\n",
       "    }\n",
       "\n",
       "    .dataframe tbody tr th {\n",
       "        vertical-align: top;\n",
       "    }\n",
       "\n",
       "    .dataframe thead th {\n",
       "        text-align: right;\n",
       "    }\n",
       "</style>\n",
       "<table border=\"1\" class=\"dataframe\">\n",
       "  <thead>\n",
       "    <tr style=\"text-align: right;\">\n",
       "      <th></th>\n",
       "      <th>sex</th>\n",
       "    </tr>\n",
       "  </thead>\n",
       "  <tbody>\n",
       "    <tr>\n",
       "      <th>0</th>\n",
       "      <td>male</td>\n",
       "    </tr>\n",
       "    <tr>\n",
       "      <th>1</th>\n",
       "      <td>female</td>\n",
       "    </tr>\n",
       "    <tr>\n",
       "      <th>2</th>\n",
       "      <td>female</td>\n",
       "    </tr>\n",
       "    <tr>\n",
       "      <th>3</th>\n",
       "      <td>female</td>\n",
       "    </tr>\n",
       "    <tr>\n",
       "      <th>4</th>\n",
       "      <td>male</td>\n",
       "    </tr>\n",
       "    <tr>\n",
       "      <th>...</th>\n",
       "      <td>...</td>\n",
       "    </tr>\n",
       "    <tr>\n",
       "      <th>622</th>\n",
       "      <td>male</td>\n",
       "    </tr>\n",
       "    <tr>\n",
       "      <th>623</th>\n",
       "      <td>male</td>\n",
       "    </tr>\n",
       "    <tr>\n",
       "      <th>624</th>\n",
       "      <td>female</td>\n",
       "    </tr>\n",
       "    <tr>\n",
       "      <th>625</th>\n",
       "      <td>female</td>\n",
       "    </tr>\n",
       "    <tr>\n",
       "      <th>626</th>\n",
       "      <td>male</td>\n",
       "    </tr>\n",
       "  </tbody>\n",
       "</table>\n",
       "<p>627 rows × 1 columns</p>\n",
       "</div>"
      ],
      "text/plain": [
       "        sex\n",
       "0      male\n",
       "1    female\n",
       "2    female\n",
       "3    female\n",
       "4      male\n",
       "..      ...\n",
       "622    male\n",
       "623    male\n",
       "624  female\n",
       "625  female\n",
       "626    male\n",
       "\n",
       "[627 rows x 1 columns]"
      ]
     },
     "execution_count": 16,
     "metadata": {},
     "output_type": "execute_result"
    }
   ],
   "source": [
    "x = pd.DataFrame(dftrain['sex'])\n",
    "x"
   ]
  },
  {
   "cell_type": "code",
   "execution_count": 17,
   "metadata": {},
   "outputs": [
    {
     "name": "stdout",
     "output_type": "stream",
     "text": [
      "<class 'pandas.core.frame.DataFrame'>\n",
      "RangeIndex: 627 entries, 0 to 626\n",
      "Data columns (total 9 columns):\n",
      " #   Column              Non-Null Count  Dtype  \n",
      "---  ------              --------------  -----  \n",
      " 0   sex                 627 non-null    object \n",
      " 1   age                 627 non-null    float64\n",
      " 2   n_siblings_spouses  627 non-null    int64  \n",
      " 3   parch               627 non-null    int64  \n",
      " 4   fare                627 non-null    float64\n",
      " 5   class               627 non-null    object \n",
      " 6   deck                627 non-null    object \n",
      " 7   embark_town         627 non-null    object \n",
      " 8   alone               627 non-null    object \n",
      "dtypes: float64(2), int64(2), object(5)\n",
      "memory usage: 44.2+ KB\n"
     ]
    }
   ],
   "source": [
    "y = pd.DataFrame(dftrain['n_siblings_spouses'])\n",
    "dftrain.info()"
   ]
  },
  {
   "cell_type": "markdown",
   "metadata": {},
   "source": [
    "Feature Column"
   ]
  },
  {
   "cell_type": "code",
   "execution_count": 18,
   "metadata": {},
   "outputs": [
    {
     "name": "stdout",
     "output_type": "stream",
     "text": [
      "WARNING:tensorflow:From C:\\Users\\Teddy Dharma\\AppData\\Local\\Temp\\ipykernel_29636\\636176846.py:7: categorical_column_with_vocabulary_list (from tensorflow.python.feature_column.feature_column_v2) is deprecated and will be removed in a future version.\n",
      "Instructions for updating:\n",
      "Use Keras preprocessing layers instead, either directly or via the `tf.keras.utils.FeatureSpace` utility. Each of `tf.feature_column.*` has a functional equivalent in `tf.keras.layers` for feature preprocessing when training a Keras model.\n",
      "WARNING:tensorflow:From C:\\Users\\Teddy Dharma\\AppData\\Local\\Temp\\ipykernel_29636\\636176846.py:10: numeric_column (from tensorflow.python.feature_column.feature_column_v2) is deprecated and will be removed in a future version.\n",
      "Instructions for updating:\n",
      "Use Keras preprocessing layers instead, either directly or via the `tf.keras.utils.FeatureSpace` utility. Each of `tf.feature_column.*` has a functional equivalent in `tf.keras.layers` for feature preprocessing when training a Keras model.\n",
      "[VocabularyListCategoricalColumn(key='sex', vocabulary_list=('male', 'female'), dtype=tf.string, default_value=-1, num_oov_buckets=0), VocabularyListCategoricalColumn(key='n_siblings_spouses', vocabulary_list=(1, 0, 3, 4, 2, 5, 8), dtype=tf.int64, default_value=-1, num_oov_buckets=0), VocabularyListCategoricalColumn(key='parch', vocabulary_list=(0, 1, 2, 5, 3, 4), dtype=tf.int64, default_value=-1, num_oov_buckets=0), VocabularyListCategoricalColumn(key='class', vocabulary_list=('Third', 'First', 'Second'), dtype=tf.string, default_value=-1, num_oov_buckets=0), VocabularyListCategoricalColumn(key='deck', vocabulary_list=('unknown', 'C', 'G', 'A', 'B', 'D', 'F', 'E'), dtype=tf.string, default_value=-1, num_oov_buckets=0), VocabularyListCategoricalColumn(key='embark_town', vocabulary_list=('Southampton', 'Cherbourg', 'Queenstown', 'unknown'), dtype=tf.string, default_value=-1, num_oov_buckets=0), VocabularyListCategoricalColumn(key='alone', vocabulary_list=('n', 'y'), dtype=tf.string, default_value=-1, num_oov_buckets=0), NumericColumn(key='age', shape=(1,), default_value=None, dtype=tf.float32, normalizer_fn=None), NumericColumn(key='fare', shape=(1,), default_value=None, dtype=tf.float32, normalizer_fn=None)]\n"
     ]
    }
   ],
   "source": [
    "CATEGORICAL_COLUMNS = ['sex', 'n_siblings_spouses', 'parch', 'class', 'deck',\n",
    "                       'embark_town', 'alone']\n",
    "NUMERIC_COLUMNS = ['age', 'fare'] \n",
    "feature_columns = []\n",
    "for feature_name in CATEGORICAL_COLUMNS: \n",
    "    vocbulary = dftrain[feature_name].unique()\n",
    "    feature_columns.append(tf.feature_column.categorical_column_with_vocabulary_list(feature_name, vocbulary))\n",
    "\n",
    "for feature_name in NUMERIC_COLUMNS: \n",
    "    feature_columns.append(tf.feature_column.numeric_column(feature_name, dtype=tf.float32))\n",
    "print(feature_columns)\n",
    "#  if numerical data : it will add to the list : NumericColumn(key='age', shape=(1,)\n",
    "#  explanation NumericColumn(key='age', shape=(1,) : Jika fitur \"age\" memiliki shape=(1,), itu berarti setiap data titik untuk fitur \"age\" hanya berisi satu nilai numerik. Misalnya, jika kita memiliki data usia beberapa orang: jadi setiap baris data akan mengandung satu nilai numeri\n",
    "#  epoch : dalah satu siklus lengkap di mana seluruh dataset pelatihan digunakan untuk melatih model secara iteratif. Dalam satu epoch, model akan melihat dan memproses seluruh contoh atau sampel dalam dataset pelatihan satu kali.\n",
    "#  jadi bisa dikatakan epoch merupakan kecenderungan model dalam melalakukan proses train pada data, dan dalam ann pelatihan tidak dilakukan sebanyak satu kali saja namun lebih dari itu sehingga nilai epoch akan berbeda beda setiap iterasinya dan ini merupakan cara yag dilakukan model dalam mengenali data yang digunakan untuk model"
   ]
  },
  {
   "cell_type": "code",
   "execution_count": 19,
   "metadata": {},
   "outputs": [
    {
     "data": {
      "text/plain": [
       "array(['male', 'female'], dtype=object)"
      ]
     },
     "execution_count": 19,
     "metadata": {},
     "output_type": "execute_result"
    }
   ],
   "source": [
    "dftrain[\"sex\"].unique()"
   ]
  },
  {
   "cell_type": "markdown",
   "metadata": {},
   "source": [
    "INPUT FUNCTION \n",
    "remember : this is not neccessary "
   ]
  },
  {
   "cell_type": "code",
   "execution_count": 20,
   "metadata": {},
   "outputs": [
    {
     "name": "stdout",
     "output_type": "stream",
     "text": [
      "INFO:tensorflow:Calling model_fn.\n",
      "INFO:tensorflow:Done calling model_fn.\n",
      "INFO:tensorflow:Starting evaluation at 2023-08-26T10:23:40\n",
      "WARNING:tensorflow:From c:\\Users\\Teddy Dharma\\AppData\\Local\\Programs\\Python\\Python311\\Lib\\site-packages\\tensorflow\\python\\training\\evaluation.py:260: FinalOpsHook.__init__ (from tensorflow.python.training.basic_session_run_hooks) is deprecated and will be removed in a future version.\n",
      "Instructions for updating:\n",
      "Use tf.keras instead.\n",
      "INFO:tensorflow:Graph was finalized.\n",
      "INFO:tensorflow:Restoring parameters from C:\\Users\\TEDDYD~1\\AppData\\Local\\Temp\\tmp_cbri7g6\\model.ckpt-200\n",
      "INFO:tensorflow:Running local_init_op.\n",
      "INFO:tensorflow:Done running local_init_op.\n",
      "INFO:tensorflow:Inference Time : 0.49864s\n",
      "INFO:tensorflow:Finished evaluation at 2023-08-26-10:23:40\n",
      "INFO:tensorflow:Saving dict for global step 200: accuracy = 0.7348485, accuracy_baseline = 0.625, auc = 0.82124275, auc_precision_recall = 0.7771631, average_loss = 0.5675832, global_step = 200, label/mean = 0.375, loss = 0.5685484, precision = 0.61417323, prediction/mean = 0.5223293, recall = 0.7878788\n",
      "INFO:tensorflow:Saving 'checkpoint_path' summary for global step 200: C:\\Users\\TEDDYD~1\\AppData\\Local\\Temp\\tmp_cbri7g6\\model.ckpt-200\n",
      "hasil akurasi : 0.7348484992980957\n",
      "{'accuracy': 0.7348485, 'accuracy_baseline': 0.625, 'auc': 0.82124275, 'auc_precision_recall': 0.7771631, 'average_loss': 0.5675832, 'label/mean': 0.375, 'loss': 0.5685484, 'precision': 0.61417323, 'prediction/mean': 0.5223293, 'recall': 0.7878788, 'global_step': 200}\n"
     ]
    }
   ],
   "source": [
    "from IPython.display import clear_output\n",
    "def make_input_fn(data_df, label_df, shuffle= True, batch_size=32, epoch=10): \n",
    "    #  because data_df, label_df is in pandas dataframe , so it need to be convert into tensorflow object\n",
    "    def input_function(): \n",
    "        ds = tf.data.Dataset.from_tensor_slices((dict(data_df), label_df))\n",
    "         # create tf.data.Dataset object with data and its label\n",
    "        #  from_tensor_slices method will return _TensorSliceDataset so that will use in training data \n",
    "        if shuffle: \n",
    "            ds = ds.shuffle(1000)\n",
    "            #  randomize order of data\n",
    "            # Misalnya, jika kita menggunakan metode shuffle(1000) pada dataset yang memiliki 10000 elemen, saat iterasi pertama dimulai, TensorFlow akan mengambil 1000 elemen pertama dari dataset dan mengacaknya dalam buffer acak berukuran 1000. Saat iterasi kedua dimulai, TensorFlow akan mengambil 1000 elemen berikutnya dari dataset dan mencampurnya dengan elemen-elemen yang masih ada dalam buffer acak. Proses ini akan berlanjut hingga seluruh dataset selesai diiterasi\n",
    "        ds = ds.batch(batch_size=batch_size).repeat(epoch)\n",
    "        #  split every 32 data and repeat until iteration = epoch\n",
    "        return ds\n",
    "    return input_function\n",
    "\n",
    "# Dalam konteks machine learning, \"function object\" mengacu pada sebuah objek atau entitas yang merepresentasikan suatu fungsi matematis atau model yang dapat digunakan untuk melakukan prediksi atau pemodelan data. Fungsi tersebut menghubungkan input data dengan output yang diinginkan.\n",
    "\n",
    "train_input = make_input_fn(dftrain, y_train) \n",
    "eval_input = make_input_fn(dfeval,y_eval, shuffle=False, epoch=1)\n",
    "\n",
    "#  lets build and train the data\n",
    "linear_est = tf.estimator.LinearClassifier(feature_columns)\n",
    "\n",
    "linear_est.train(train_input)\n",
    "clear_output()\n",
    "result = linear_est.evaluate(eval_input)\n",
    "print(f'hasil akurasi : {result[\"accuracy\"]}')\n",
    "print(result)"
   ]
  },
  {
   "cell_type": "code",
   "execution_count": 21,
   "metadata": {},
   "outputs": [
    {
     "name": "stdout",
     "output_type": "stream",
     "text": [
      "INFO:tensorflow:Calling model_fn.\n"
     ]
    },
    {
     "name": "stdout",
     "output_type": "stream",
     "text": [
      "WARNING:tensorflow:From c:\\Users\\Teddy Dharma\\AppData\\Local\\Programs\\Python\\Python311\\Lib\\site-packages\\tensorflow_estimator\\python\\estimator\\head\\base_head.py:786: ClassificationOutput.__init__ (from tensorflow.python.saved_model.model_utils.export_output) is deprecated and will be removed in a future version.\n",
      "Instructions for updating:\n",
      "Use tf.keras instead.\n",
      "WARNING:tensorflow:From c:\\Users\\Teddy Dharma\\AppData\\Local\\Programs\\Python\\Python311\\Lib\\site-packages\\tensorflow_estimator\\python\\estimator\\head\\binary_class_head.py:561: RegressionOutput.__init__ (from tensorflow.python.saved_model.model_utils.export_output) is deprecated and will be removed in a future version.\n",
      "Instructions for updating:\n",
      "Use tf.keras instead.\n",
      "WARNING:tensorflow:From c:\\Users\\Teddy Dharma\\AppData\\Local\\Programs\\Python\\Python311\\Lib\\site-packages\\tensorflow_estimator\\python\\estimator\\head\\binary_class_head.py:563: PredictOutput.__init__ (from tensorflow.python.saved_model.model_utils.export_output) is deprecated and will be removed in a future version.\n",
      "Instructions for updating:\n",
      "Use tf.keras instead.\n",
      "INFO:tensorflow:Done calling model_fn.\n",
      "INFO:tensorflow:Graph was finalized.\n",
      "INFO:tensorflow:Restoring parameters from C:\\Users\\TEDDYD~1\\AppData\\Local\\Temp\\tmp_cbri7g6\\model.ckpt-200\n",
      "INFO:tensorflow:Running local_init_op.\n",
      "INFO:tensorflow:Done running local_init_op.\n",
      "0.1697476\n"
     ]
    },
    {
     "data": {
      "image/png": "[encoded data removed]",
      "text/plain": [
       "<Figure size 640x480 with 1 Axes>"
      ]
     },
     "metadata": {},
     "output_type": "display_data"
    }
   ],
   "source": [
    "#  ini cuma test materi saja\n",
    "import pandas as pd\n",
    "predict1 = linear_est.predict(eval_input)\n",
    "predict1_list = list(predict1)\n",
    "data_pandas = pd.DataFrame(predict['probabilities'][1] for predict in predict1_list)\n",
    "\n",
    "data_pandas.plot(bins=20, title=\"predictd who survived\", kind=\"hist\")\n",
    "#  note: untuk mengeluarkan hasil prediksi maka harus dikonversi terlebih dahulu ke dalam bentuk list\n",
    "predict1\n",
    "# mencari nilai probabilities yang speesifik \n",
    "print(predict1_list[0]['probabilities'][1])"
   ]
  },
  {
   "cell_type": "code",
   "execution_count": 22,
   "metadata": {},
   "outputs": [
    {
     "data": {
      "text/plain": [
       "0.7348485"
      ]
     },
     "execution_count": 22,
     "metadata": {},
     "output_type": "execute_result"
    }
   ],
   "source": [
    "result['accuracy']\n"
   ]
  },
  {
   "cell_type": "code",
   "execution_count": 23,
   "metadata": {},
   "outputs": [
    {
     "name": "stdout",
     "output_type": "stream",
     "text": [
      "INFO:tensorflow:Calling model_fn.\n"
     ]
    },
    {
     "name": "stdout",
     "output_type": "stream",
     "text": [
      "INFO:tensorflow:Done calling model_fn.\n",
      "INFO:tensorflow:Graph was finalized.\n",
      "INFO:tensorflow:Restoring parameters from C:\\Users\\TEDDYD~1\\AppData\\Local\\Temp\\tmp_cbri7g6\\model.ckpt-200\n",
      "INFO:tensorflow:Running local_init_op.\n",
      "INFO:tensorflow:Done running local_init_op.\n"
     ]
    },
    {
     "data": {
      "text/plain": [
       "<Axes: title={'center': 'predicted probabilities'}, ylabel='Frequency'>"
      ]
     },
     "execution_count": 23,
     "metadata": {},
     "output_type": "execute_result"
    },
    {
     "data": {
      "image/png": "[encoded data removed]",
      "text/plain": [
       "<Figure size 640x480 with 1 Axes>"
      ]
     },
     "metadata": {},
     "output_type": "display_data"
    }
   ],
   "source": [
    "# melakukan uji terhadap data\n",
    "pred_dicts = list(linear_est.predict(eval_input))\n",
    "probs = pd.Series([pred['probabilities'][1] for pred in pred_dicts])\n",
    "\n",
    "probs.plot(kind='hist', bins=20, title='predicted probabilities')\n",
    "# result = linear_est.predict(eval_input)\n",
    "# # probs = pd.Series([])\n",
    "# result"
   ]
  },
  {
   "cell_type": "code",
   "execution_count": 24,
   "metadata": {},
   "outputs": [
    {
     "name": "stdout",
     "output_type": "stream",
     "text": [
      "INFO:tensorflow:Calling model_fn.\n"
     ]
    },
    {
     "name": "stdout",
     "output_type": "stream",
     "text": [
      "INFO:tensorflow:Done calling model_fn.\n",
      "INFO:tensorflow:Graph was finalized.\n",
      "INFO:tensorflow:Restoring parameters from C:\\Users\\TEDDYD~1\\AppData\\Local\\Temp\\tmp_cbri7g6\\model.ckpt-200\n",
      "INFO:tensorflow:Running local_init_op.\n",
      "INFO:tensorflow:Done running local_init_op.\n"
     ]
    },
    {
     "data": {
      "text/plain": [
       "array([0.8302524, 0.1697476], dtype=float32)"
      ]
     },
     "execution_count": 24,
     "metadata": {},
     "output_type": "execute_result"
    }
   ],
   "source": [
    "list_temp = list(linear_est.predict(eval_input)) \n",
    "list_temp[0][\"probabilities\"]\n",
    "\n",
    "# amabil ihdex ke 0 dan kemudian ambil key probability \n",
    "# jika diambil index ke 0 dan kemudian diambil probability maka yang dihasilkan adalah : array([0.9605771 , 0.03942294], yang dimana 0.9605771 menyatakan tidak selamat dan sisanya adalah peluang selamat dari korban \n",
    "# Batch data dalam konteks generator merujuk pada sekelompok data yang diambil dari dataset utama dalam satu iterasi atau langkah\n",
    "# Misalnya, jika Anda memiliki 1000 data pelatihan dan menggunakan batch size 32, maka setiap iterasi akan mengambil 32 data dari dataset untuk digunakan oleh model. Setelah semua data telah diambil sebanyak 32 per kali iterasi, parameter model diperbarui berdasarkan performa model pada batch tersebut\n",
    "#  Penggunaan batch dalam pelatihan model machine learning atau deep learning membantu menghemat penggunaan memori, terutama ketika Anda bekerja dengan dataset yang besar. Ini terjadi karena seluruh dataset tidak perlu dimuat ke dalam memori pada saat yang sama."
   ]
  },
  {
   "cell_type": "markdown",
   "metadata": {},
   "source": [
    "Pada setiap epoch dalam pelatihan model, proses pengacakan (shuffle) dapat berpengaruh pada cara model mempelajari data dan ketergantungannya terhadap urutan data dalam dataset. Mari kita jelaskan bagaimana cara kerja shuffle dengan epoch dan bagaimana keterkatannya dengan contoh.\n",
    "\n",
    "1. **Cara Kerja Shuffle dengan Epoch**:\n",
    "\n",
    "- Pada awal pelatihan, dataset akan diacak secara acak dengan ukuran buffer acak tertentu (misalnya, 1000).\n",
    "- Model akan melihat data dalam urutan acak karena dataset telah diacak.\n",
    "- Model akan memproses seluruh dataset dalam satu epoch, yaitu melihat dan mempelajari setiap contoh dalam dataset.\n",
    "- Setelah satu epoch selesai, dataset akan diacak kembali, dan model akan kembali melihat dataset yang telah diacak pada epoch berikutnya.\n",
    "- Proses ini berlanjut hingga jumlah epoch yang ditentukan tercapai.\n",
    "\n",
    "2. **Keterkaitan Shuffle dengan Model**:\n",
    "\n",
    "Proses pengacakan (shuffle) di setiap epoch sangat membantu dalam mencegah model untuk mengandalkan atau mengingat urutan data tertentu dalam dataset. Ketika model terpapar pada pola urutan data yang berulang dalam beberapa epoch, model dapat \"menghafal\" pola tersebut dan kurang mampu untuk menggeneralisasi dengan baik pada data baru. Dengan menggunakan shuffle pada setiap epoch, model akan melihat data dalam urutan yang berbeda-beda pada setiap epoch, dan ini membantu model untuk belajar pola yang lebih umum dan lebih baik dalam mengatasi data yang belum pernah dilihat sebelumnya.\n",
    "\n",
    "Contoh dengan TensorFlow:\n",
    "\n",
    "Misalkan kita memiliki data berikut:\n",
    "\n",
    "```python\n",
    "import tensorflow as tf\n",
    "\n",
    "data = tf.constant([1, 2, 3, 4, 5, 6, 7, 8, 9, 10])\n",
    "dataset = tf.data.Dataset.from_tensor_slices(data)\n",
    "\n",
    "# Jumlah epoch yang diinginkan\n",
    "num_epochs = 3\n",
    "\n",
    "# Menggunakan shuffle(5) untuk pengacakan dengan buffer acak 5 elemen\n",
    "dataset = dataset.shuffle(5)\n",
    "\n",
    "for epoch in range(num_epochs):\n",
    "    print(\"Epoch:\", epoch + 1)\n",
    "    for data_point in dataset:\n",
    "        print(data_point)\n",
    "```\n",
    "\n",
    "Outputnya akan berbeda pada setiap epoch, karena dataset diacak ulang setiap kali masuk ke epoch baru. Contoh output untuk tiga epoch mungkin akan seperti ini:\n",
    "\n",
    "```\n",
    "Epoch: 1\n",
    "tf.Tensor(3, shape=(), dtype=int32)\n",
    "tf.Tensor(5, shape=(), dtype=int32)\n",
    "tf.Tensor(4, shape=(), dtype=int32)\n",
    "tf.Tensor(6, shape=(), dtype=int32)\n",
    "tf.Tensor(2, shape=(), dtype=int32)\n",
    "tf.Tensor(8, shape=(), dtype=int32)\n",
    "tf.Tensor(9, shape=(), dtype=int32)\n",
    "tf.Tensor(7, shape=(), dtype=int32)\n",
    "tf.Tensor(10, shape=(), dtype=int32)\n",
    "tf.Tensor(1, shape=(), dtype=int32)\n",
    "...\n",
    "Epoch: 2\n",
    "tf.Tensor(6, shape=(), dtype=int32)\n",
    "tf.Tensor(7, shape=(), dtype=int32)\n",
    "tf.Tensor(8, shape=(), dtype=int32)\n",
    "tf.Tensor(1, shape=(), dtype=int32)\n",
    "tf.Tensor(10, shape=(), dtype=int32)\n",
    "tf.Tensor(2, shape=(), dtype=int32)\n",
    "tf.Tensor(3, shape=(), dtype=int32)\n",
    "tf.Tensor(9, shape=(), dtype=int32)\n",
    "tf.Tensor(4, shape=(), dtype=int32)\n",
    "tf.Tensor(5, shape=(), dtype=int32)\n",
    "...\n",
    "Epoch: 3\n",
    "tf.Tensor(10, shape=(), dtype=int32)\n",
    "tf.Tensor(2, shape=(), dtype=int32)\n",
    "tf.Tensor(5, shape=(), dtype=int32)\n",
    "tf.Tensor(4, shape=(), dtype=int32)\n",
    "tf.Tensor(1, shape=(), dtype=int32)\n",
    "tf.Tensor(8, shape=(), dtype=int32)\n",
    "tf.Tensor(3, shape=(), dtype=int32)\n",
    "tf.Tensor(9, shape=(), dtype=int32)\n",
    "tf.Tensor(7, shape=(), dtype=int32)\n",
    "tf.Tensor(6, shape=(), dtype=int32)\n",
    "...\n",
    "```\n",
    "\n",
    "Perhatikan bahwa elemen-elemen dalam dataset diacak ulang pada setiap epoch, memberikan variasi urutan data yang berbeda-beda pada setiap epoch dalam proses pelatihan model. Hal ini membantu model untuk belajar dari berbagai variasi data dan mengurangi ketergantungan pada urutan data yang mungkin ada dalam dataset.\n",
    "\n",
    "Tidak, itu bukan cara kerja yang tepat untuk `shuffle(5)` dalam TensorFlow. Saya mohon maaf jika jawaban sebelumnya menyebabkan kebingungan.\n",
    "\n",
    "Pada kenyataannya, penggunaan `shuffle(5)` dalam TensorFlow tidak berarti mengambil 5 data sembarang dari dataset dan mengacaknya. Sebaliknya, `shuffle(5)` menggunakan buffer acak berukuran 5 elemen untuk mengacak urutan elemen-elemen dalam dataset.\n",
    "\n",
    "Cara kerja `shuffle(5)` adalah sebagai berikut:\n",
    "\n",
    "1. Pada awalnya, buffer acak akan diisi dengan 5 elemen pertama dari dataset.\n",
    "2. TensorFlow akan mencampur elemen-elemen dalam buffer acak menggunakan metode pengacakan yang sesuai.\n",
    "3. Saat data diminta atau diambil oleh model atau dalam iterasi, TensorFlow akan mengambil elemen-elemen dari buffer acak dan menggantinya dengan elemen-elemen dari dataset yang belum digunakan.\n",
    "4. Setelah buffer acak habis, buffer akan diisi ulang dengan 5 elemen pertama dari dataset yang telah diacak ulang.\n",
    "\n",
    "Ini berarti setiap epoch menggunakan buffer acak berukuran 5 elemen untuk mengacak urutan elemen-elemen dalam dataset, bukan hanya mengambil 5 data sembarang dan mengacaknya.\n",
    "\n",
    "Jadi, `shuffle(5)` pada dasarnya mengacak urutan elemen-elemen dalam dataset dengan menggunakan buffer acak berukuran 5 elemen. Buffer acak ini akan diisi ulang setelah selesai digunakan dalam satu epoch dan digunakan kembali pada epoch berikutnya untuk mengacak urutan elemen dalam dataset.\n",
    "\n",
    "\n",
    "Pada baris kode `ds = ds.batch(batch_size=batch_size).repeat(epoch)`, kode tersebut memiliki arti sebagai berikut:\n",
    "\n",
    "1. `.batch(batch_size=batch_size)`: Kode ini berfungsi untuk menggabungkan beberapa contoh dari dataset menjadi batch yang lebih besar. Parameter `batch_size` adalah ukuran dari setiap batch. Dalam hal ini, dataset `ds` akan diubah menjadi dataset dengan batch-batch yang berisi `batch_size` contoh data dalam satu batch.\n",
    "\n",
    "2. `.repeat(epoch)`: Kode ini berfungsi untuk mengulangi dataset (repeating) sebanyak `epoch` kali. Ini berarti dataset akan diiterasi sebanyak `epoch` kali dalam proses pelatihan atau evaluasi model.\n",
    "\n",
    "Mari kita berikan penjelasan lebih mendalam:\n",
    "\n",
    "Misalkan kita memiliki dataset `ds` yang berisi data `[1, 2, 3, 4, 5, 6, 7, 8, 9, 10]` dan kita ingin melakukan proses pelatihan atau evaluasi model menggunakan batch dengan ukuran 3 dan melakukan 2 epoch pada dataset tersebut.\n",
    "\n",
    "```python\n",
    "import tensorflow as tf\n",
    "\n",
    "# Data dalam bentuk tensor\n",
    "data_tensor = tf.constant([1, 2, 3, 4, 5, 6, 7, 8, 9, 10])\n",
    "\n",
    "# Membentuk dataset dari tensor\n",
    "ds = tf.data.Dataset.from_tensor_slices(data_tensor)\n",
    "\n",
    "# Mengatur ukuran batch dan mengulangi dataset sebanyak 2 epoch\n",
    "batch_size = 3\n",
    "epoch = 2\n",
    "ds = ds.batch(batch_size=batch_size).repeat(epoch)\n",
    "\n",
    "# Menampilkan setiap batch dalam dataset selama 2 epoch\n",
    "for batch in ds:\n",
    "    print(batch)\n",
    "```\n",
    "\n",
    "Outputnya akan menjadi:\n",
    "\n",
    "```\n",
    "tf.Tensor([1 2 3], shape=(3,), dtype=int32)\n",
    "tf.Tensor([4 5 6], shape=(3,), dtype=int32)\n",
    "tf.Tensor([7 8 9], shape=(3,), dtype=int32)\n",
    "tf.Tensor([10], shape=(1,), dtype=int32)\n",
    "tf.Tensor([1 2 3], shape=(3,), dtype=int32)\n",
    "tf.Tensor([4 5 6], shape=(3,), dtype=int32)\n",
    "tf.Tensor([7 8 9], shape=(3,), dtype=int32)\n",
    "tf.Tensor([10], shape=(1,), dtype=int32)\n",
    "```\n",
    "\n",
    "Pada hasil output di atas, kita melihat bahwa dataset `ds` diulang dua kali karena `repeat(epoch)` dengan `epoch=2`. Setiap iterasi berisi batch dengan ukuran 3 (kecuali batch terakhir yang berukuran 1 karena jumlah data tidak bisa dibagi rata). Proses ini berlanjut hingga seluruh dataset diiterasi dua kali (2 epoch).\n",
    "\n",
    "Dengan cara ini, dataset `ds` akan berulang sebanyak 2 kali dengan setiap iterasi berisi batch-batch yang berukuran 3 (kecuali batch terakhir). Hal ini memungkinkan kita untuk melakukan pelatihan atau evaluasi model dalam beberapa epoch dengan menggunakan batch data, yang sering digunakan dalam proses pembelajaran mesin untuk meningkatkan kecepatan dan efisiensi dalam memproses data."
   ]
  },
  {
   "cell_type": "code",
   "execution_count": 25,
   "metadata": {},
   "outputs": [
    {
     "data": {
      "text/plain": [
       "<_TensorSliceDataset element_spec=({'sex': TensorSpec(shape=(), dtype=tf.string, name=None), 'age': TensorSpec(shape=(), dtype=tf.float64, name=None), 'n_siblings_spouses': TensorSpec(shape=(), dtype=tf.int64, name=None), 'parch': TensorSpec(shape=(), dtype=tf.int64, name=None), 'fare': TensorSpec(shape=(), dtype=tf.float64, name=None), 'class': TensorSpec(shape=(), dtype=tf.string, name=None), 'deck': TensorSpec(shape=(), dtype=tf.string, name=None), 'embark_town': TensorSpec(shape=(), dtype=tf.string, name=None), 'alone': TensorSpec(shape=(), dtype=tf.string, name=None)}, TensorSpec(shape=(), dtype=tf.int64, name=None))>"
      ]
     },
     "execution_count": 25,
     "metadata": {},
     "output_type": "execute_result"
    }
   ],
   "source": [
    "ds = tf.data.Dataset.from_tensor_slices((dict(dftrain), y_train))\n",
    "# Contoh penggunaan from_tensor_slices adalah ketika Anda ingin memuat data yang sudah ada dalam bentuk array atau tensor menjadi dataset yang dapat digunakan dalam pelatihan atau evaluasi model. Jika data Anda sudah ada dalam bentuk yang sesuai dengan input model, Anda tidak perlu menggunakan metode ini\n",
    "# Misalnya, jika Anda menggunakan TensorFlow, dan data Anda sudah dalam bentuk tensor atau array, Anda bisa langsung menggunakan data tersebut untuk proses pelatihan tanpa perlu konversi khusus menggunakan from_tensor_slices\n",
    "ds"
   ]
  },
  {
   "cell_type": "code",
   "execution_count": 26,
   "metadata": {},
   "outputs": [
    {
     "data": {
      "text/html": [
       "<div>\n",
       "<style scoped>\n",
       "    .dataframe tbody tr th:only-of-type {\n",
       "        vertical-align: middle;\n",
       "    }\n",
       "\n",
       "    .dataframe tbody tr th {\n",
       "        vertical-align: top;\n",
       "    }\n",
       "\n",
       "    .dataframe thead th {\n",
       "        text-align: right;\n",
       "    }\n",
       "</style>\n",
       "<table border=\"1\" class=\"dataframe\">\n",
       "  <thead>\n",
       "    <tr style=\"text-align: right;\">\n",
       "      <th></th>\n",
       "      <th>0</th>\n",
       "      <th>1</th>\n",
       "    </tr>\n",
       "  </thead>\n",
       "  <tbody>\n",
       "    <tr>\n",
       "      <th>0</th>\n",
       "      <td>{'sex': tf.Tensor(b'male', shape=(), dtype=str...</td>\n",
       "      <td>tf.Tensor(0, shape=(), dtype=int64)</td>\n",
       "    </tr>\n",
       "    <tr>\n",
       "      <th>1</th>\n",
       "      <td>{'sex': tf.Tensor(b'female', shape=(), dtype=s...</td>\n",
       "      <td>tf.Tensor(1, shape=(), dtype=int64)</td>\n",
       "    </tr>\n",
       "    <tr>\n",
       "      <th>2</th>\n",
       "      <td>{'sex': tf.Tensor(b'female', shape=(), dtype=s...</td>\n",
       "      <td>tf.Tensor(1, shape=(), dtype=int64)</td>\n",
       "    </tr>\n",
       "    <tr>\n",
       "      <th>3</th>\n",
       "      <td>{'sex': tf.Tensor(b'female', shape=(), dtype=s...</td>\n",
       "      <td>tf.Tensor(1, shape=(), dtype=int64)</td>\n",
       "    </tr>\n",
       "    <tr>\n",
       "      <th>4</th>\n",
       "      <td>{'sex': tf.Tensor(b'male', shape=(), dtype=str...</td>\n",
       "      <td>tf.Tensor(0, shape=(), dtype=int64)</td>\n",
       "    </tr>\n",
       "    <tr>\n",
       "      <th>...</th>\n",
       "      <td>...</td>\n",
       "      <td>...</td>\n",
       "    </tr>\n",
       "    <tr>\n",
       "      <th>622</th>\n",
       "      <td>{'sex': tf.Tensor(b'male', shape=(), dtype=str...</td>\n",
       "      <td>tf.Tensor(0, shape=(), dtype=int64)</td>\n",
       "    </tr>\n",
       "    <tr>\n",
       "      <th>623</th>\n",
       "      <td>{'sex': tf.Tensor(b'male', shape=(), dtype=str...</td>\n",
       "      <td>tf.Tensor(0, shape=(), dtype=int64)</td>\n",
       "    </tr>\n",
       "    <tr>\n",
       "      <th>624</th>\n",
       "      <td>{'sex': tf.Tensor(b'female', shape=(), dtype=s...</td>\n",
       "      <td>tf.Tensor(1, shape=(), dtype=int64)</td>\n",
       "    </tr>\n",
       "    <tr>\n",
       "      <th>625</th>\n",
       "      <td>{'sex': tf.Tensor(b'female', shape=(), dtype=s...</td>\n",
       "      <td>tf.Tensor(0, shape=(), dtype=int64)</td>\n",
       "    </tr>\n",
       "    <tr>\n",
       "      <th>626</th>\n",
       "      <td>{'sex': tf.Tensor(b'male', shape=(), dtype=str...</td>\n",
       "      <td>tf.Tensor(0, shape=(), dtype=int64)</td>\n",
       "    </tr>\n",
       "  </tbody>\n",
       "</table>\n",
       "<p>627 rows × 2 columns</p>\n",
       "</div>"
      ],
      "text/plain": [
       "                                                     0  \\\n",
       "0    {'sex': tf.Tensor(b'male', shape=(), dtype=str...   \n",
       "1    {'sex': tf.Tensor(b'female', shape=(), dtype=s...   \n",
       "2    {'sex': tf.Tensor(b'female', shape=(), dtype=s...   \n",
       "3    {'sex': tf.Tensor(b'female', shape=(), dtype=s...   \n",
       "4    {'sex': tf.Tensor(b'male', shape=(), dtype=str...   \n",
       "..                                                 ...   \n",
       "622  {'sex': tf.Tensor(b'male', shape=(), dtype=str...   \n",
       "623  {'sex': tf.Tensor(b'male', shape=(), dtype=str...   \n",
       "624  {'sex': tf.Tensor(b'female', shape=(), dtype=s...   \n",
       "625  {'sex': tf.Tensor(b'female', shape=(), dtype=s...   \n",
       "626  {'sex': tf.Tensor(b'male', shape=(), dtype=str...   \n",
       "\n",
       "                                       1  \n",
       "0    tf.Tensor(0, shape=(), dtype=int64)  \n",
       "1    tf.Tensor(1, shape=(), dtype=int64)  \n",
       "2    tf.Tensor(1, shape=(), dtype=int64)  \n",
       "3    tf.Tensor(1, shape=(), dtype=int64)  \n",
       "4    tf.Tensor(0, shape=(), dtype=int64)  \n",
       "..                                   ...  \n",
       "622  tf.Tensor(0, shape=(), dtype=int64)  \n",
       "623  tf.Tensor(0, shape=(), dtype=int64)  \n",
       "624  tf.Tensor(1, shape=(), dtype=int64)  \n",
       "625  tf.Tensor(0, shape=(), dtype=int64)  \n",
       "626  tf.Tensor(0, shape=(), dtype=int64)  \n",
       "\n",
       "[627 rows x 2 columns]"
      ]
     },
     "execution_count": 26,
     "metadata": {},
     "output_type": "execute_result"
    }
   ],
   "source": [
    "data_frame =  pd.DataFrame(ds)\n",
    "data_frame"
   ]
  },
  {
   "cell_type": "markdown",
   "metadata": {},
   "source": [
    "Classification "
   ]
  },
  {
   "cell_type": "code",
   "execution_count": 27,
   "metadata": {},
   "outputs": [],
   "source": [
    "CSV_COLUMN_NAMES = ['SepalLength', 'SepalWidth', 'PetalLength', 'PetalWidth', 'Species']\n",
    "SPECIES = ['Setosa', 'Versicolor', 'Virginica']\n",
    "# Lets define some constants to help us later on"
   ]
  },
  {
   "cell_type": "code",
   "execution_count": 28,
   "metadata": {},
   "outputs": [],
   "source": [
    "train_path = tf.keras.utils.get_file(\n",
    "    \"iris_training.csv\", \"https://storage.googleapis.com/download.tensorflow.org/data/iris_training.csv\")\n",
    "test_path = tf.keras.utils.get_file(\n",
    "    \"iris_test.csv\", \"https://storage.googleapis.com/download.tensorflow.org/data/iris_test.csv\")\n",
    "\n",
    "train = pd.read_csv(train_path, names=CSV_COLUMN_NAMES, header=0)\n",
    "#  header = 0 menandakan di baris ke 0  / awal kolom akan dijadikan header\n",
    "test = pd.read_csv(test_path, names=CSV_COLUMN_NAMES, header=0)\n",
    "#  mendapatkan data dengan bantuan tf.keras.utils.get_file()\n",
    "\n",
    "# note:karena names diset menjaadi CSV_COLUMN_NAME maka "
   ]
  },
  {
   "cell_type": "code",
   "execution_count": 29,
   "metadata": {},
   "outputs": [
    {
     "data": {
      "text/html": [
       "<div>\n",
       "<style scoped>\n",
       "    .dataframe tbody tr th:only-of-type {\n",
       "        vertical-align: middle;\n",
       "    }\n",
       "\n",
       "    .dataframe tbody tr th {\n",
       "        vertical-align: top;\n",
       "    }\n",
       "\n",
       "    .dataframe thead th {\n",
       "        text-align: right;\n",
       "    }\n",
       "</style>\n",
       "<table border=\"1\" class=\"dataframe\">\n",
       "  <thead>\n",
       "    <tr style=\"text-align: right;\">\n",
       "      <th></th>\n",
       "      <th>SepalLength</th>\n",
       "      <th>SepalWidth</th>\n",
       "      <th>PetalLength</th>\n",
       "      <th>PetalWidth</th>\n",
       "      <th>Species</th>\n",
       "    </tr>\n",
       "  </thead>\n",
       "  <tbody>\n",
       "    <tr>\n",
       "      <th>0</th>\n",
       "      <td>6.4</td>\n",
       "      <td>2.8</td>\n",
       "      <td>5.6</td>\n",
       "      <td>2.2</td>\n",
       "      <td>2</td>\n",
       "    </tr>\n",
       "    <tr>\n",
       "      <th>1</th>\n",
       "      <td>5.0</td>\n",
       "      <td>2.3</td>\n",
       "      <td>3.3</td>\n",
       "      <td>1.0</td>\n",
       "      <td>1</td>\n",
       "    </tr>\n",
       "    <tr>\n",
       "      <th>2</th>\n",
       "      <td>4.9</td>\n",
       "      <td>2.5</td>\n",
       "      <td>4.5</td>\n",
       "      <td>1.7</td>\n",
       "      <td>2</td>\n",
       "    </tr>\n",
       "    <tr>\n",
       "      <th>3</th>\n",
       "      <td>4.9</td>\n",
       "      <td>3.1</td>\n",
       "      <td>1.5</td>\n",
       "      <td>0.1</td>\n",
       "      <td>0</td>\n",
       "    </tr>\n",
       "    <tr>\n",
       "      <th>4</th>\n",
       "      <td>5.7</td>\n",
       "      <td>3.8</td>\n",
       "      <td>1.7</td>\n",
       "      <td>0.3</td>\n",
       "      <td>0</td>\n",
       "    </tr>\n",
       "  </tbody>\n",
       "</table>\n",
       "</div>"
      ],
      "text/plain": [
       "   SepalLength  SepalWidth  PetalLength  PetalWidth  Species\n",
       "0          6.4         2.8          5.6         2.2        2\n",
       "1          5.0         2.3          3.3         1.0        1\n",
       "2          4.9         2.5          4.5         1.7        2\n",
       "3          4.9         3.1          1.5         0.1        0\n",
       "4          5.7         3.8          1.7         0.3        0"
      ]
     },
     "execution_count": 29,
     "metadata": {},
     "output_type": "execute_result"
    }
   ],
   "source": [
    "train.head()"
   ]
  },
  {
   "cell_type": "code",
   "execution_count": 30,
   "metadata": {},
   "outputs": [
    {
     "data": {
      "text/html": [
       "<div>\n",
       "<style scoped>\n",
       "    .dataframe tbody tr th:only-of-type {\n",
       "        vertical-align: middle;\n",
       "    }\n",
       "\n",
       "    .dataframe tbody tr th {\n",
       "        vertical-align: top;\n",
       "    }\n",
       "\n",
       "    .dataframe thead th {\n",
       "        text-align: right;\n",
       "    }\n",
       "</style>\n",
       "<table border=\"1\" class=\"dataframe\">\n",
       "  <thead>\n",
       "    <tr style=\"text-align: right;\">\n",
       "      <th></th>\n",
       "      <th>SepalLength</th>\n",
       "      <th>SepalWidth</th>\n",
       "      <th>PetalLength</th>\n",
       "      <th>PetalWidth</th>\n",
       "      <th>Species</th>\n",
       "    </tr>\n",
       "  </thead>\n",
       "  <tbody>\n",
       "    <tr>\n",
       "      <th>0</th>\n",
       "      <td>5.9</td>\n",
       "      <td>3.0</td>\n",
       "      <td>4.2</td>\n",
       "      <td>1.5</td>\n",
       "      <td>1</td>\n",
       "    </tr>\n",
       "    <tr>\n",
       "      <th>1</th>\n",
       "      <td>6.9</td>\n",
       "      <td>3.1</td>\n",
       "      <td>5.4</td>\n",
       "      <td>2.1</td>\n",
       "      <td>2</td>\n",
       "    </tr>\n",
       "    <tr>\n",
       "      <th>2</th>\n",
       "      <td>5.1</td>\n",
       "      <td>3.3</td>\n",
       "      <td>1.7</td>\n",
       "      <td>0.5</td>\n",
       "      <td>0</td>\n",
       "    </tr>\n",
       "    <tr>\n",
       "      <th>3</th>\n",
       "      <td>6.0</td>\n",
       "      <td>3.4</td>\n",
       "      <td>4.5</td>\n",
       "      <td>1.6</td>\n",
       "      <td>1</td>\n",
       "    </tr>\n",
       "    <tr>\n",
       "      <th>4</th>\n",
       "      <td>5.5</td>\n",
       "      <td>2.5</td>\n",
       "      <td>4.0</td>\n",
       "      <td>1.3</td>\n",
       "      <td>1</td>\n",
       "    </tr>\n",
       "  </tbody>\n",
       "</table>\n",
       "</div>"
      ],
      "text/plain": [
       "   SepalLength  SepalWidth  PetalLength  PetalWidth  Species\n",
       "0          5.9         3.0          4.2         1.5        1\n",
       "1          6.9         3.1          5.4         2.1        2\n",
       "2          5.1         3.3          1.7         0.5        0\n",
       "3          6.0         3.4          4.5         1.6        1\n",
       "4          5.5         2.5          4.0         1.3        1"
      ]
     },
     "execution_count": 30,
     "metadata": {},
     "output_type": "execute_result"
    }
   ],
   "source": [
    "test.head()"
   ]
  },
  {
   "cell_type": "code",
   "execution_count": null,
   "metadata": {},
   "outputs": [],
   "source": []
  },
  {
   "cell_type": "code",
   "execution_count": 31,
   "metadata": {},
   "outputs": [
    {
     "data": {
      "text/html": [
       "<div>\n",
       "<style scoped>\n",
       "    .dataframe tbody tr th:only-of-type {\n",
       "        vertical-align: middle;\n",
       "    }\n",
       "\n",
       "    .dataframe tbody tr th {\n",
       "        vertical-align: top;\n",
       "    }\n",
       "\n",
       "    .dataframe thead th {\n",
       "        text-align: right;\n",
       "    }\n",
       "</style>\n",
       "<table border=\"1\" class=\"dataframe\">\n",
       "  <thead>\n",
       "    <tr style=\"text-align: right;\">\n",
       "      <th></th>\n",
       "      <th>SepalLength</th>\n",
       "      <th>SepalWidth</th>\n",
       "      <th>PetalLength</th>\n",
       "      <th>PetalWidth</th>\n",
       "    </tr>\n",
       "  </thead>\n",
       "  <tbody>\n",
       "    <tr>\n",
       "      <th>0</th>\n",
       "      <td>6.4</td>\n",
       "      <td>2.8</td>\n",
       "      <td>5.6</td>\n",
       "      <td>2.2</td>\n",
       "    </tr>\n",
       "    <tr>\n",
       "      <th>1</th>\n",
       "      <td>5.0</td>\n",
       "      <td>2.3</td>\n",
       "      <td>3.3</td>\n",
       "      <td>1.0</td>\n",
       "    </tr>\n",
       "    <tr>\n",
       "      <th>2</th>\n",
       "      <td>4.9</td>\n",
       "      <td>2.5</td>\n",
       "      <td>4.5</td>\n",
       "      <td>1.7</td>\n",
       "    </tr>\n",
       "    <tr>\n",
       "      <th>3</th>\n",
       "      <td>4.9</td>\n",
       "      <td>3.1</td>\n",
       "      <td>1.5</td>\n",
       "      <td>0.1</td>\n",
       "    </tr>\n",
       "    <tr>\n",
       "      <th>4</th>\n",
       "      <td>5.7</td>\n",
       "      <td>3.8</td>\n",
       "      <td>1.7</td>\n",
       "      <td>0.3</td>\n",
       "    </tr>\n",
       "  </tbody>\n",
       "</table>\n",
       "</div>"
      ],
      "text/plain": [
       "   SepalLength  SepalWidth  PetalLength  PetalWidth\n",
       "0          6.4         2.8          5.6         2.2\n",
       "1          5.0         2.3          3.3         1.0\n",
       "2          4.9         2.5          4.5         1.7\n",
       "3          4.9         3.1          1.5         0.1\n",
       "4          5.7         3.8          1.7         0.3"
      ]
     },
     "execution_count": 31,
     "metadata": {},
     "output_type": "execute_result"
    }
   ],
   "source": [
    "train_y = train.pop('Species')\n",
    "test_y = test.pop('Species')\n",
    "train.head() # the species column is now gone"
   ]
  },
  {
   "cell_type": "code",
   "execution_count": 32,
   "metadata": {},
   "outputs": [],
   "source": [
    "#  make input function \n",
    "#   tf.data.Dataset.from_tensor_slices(data) berperan agar data dapat dibagi menjadi beberapa  bath sesuai dengan yang diinginkan \n",
    "def input_function(features, labels, training=True,batch_size = 256):\n",
    "    data_input = tf.data.Dataset.from_tensor_slices((dict(features), labels)) \n",
    "    # ingat di dalam python, parameter yang ada default value harus berada di paling kanan, jika tidak maka akan eror\n",
    "    if training:\n",
    "        data_input = data_input.shuffle(1000).repeat()\n",
    "    return data_input.batch(batch_size)"
   ]
  },
  {
   "cell_type": "code",
   "execution_count": 33,
   "metadata": {},
   "outputs": [],
   "source": [
    "# # ini merupakan penjelasan dari fungsi tf.data.Dataset.from_tensor_slices(data)\n",
    "# import tensorflow as tf\n",
    "\n",
    "# # Contoh data\n",
    "# data = [1, 2, 3, 4, 5, 6, 7, 8, 9, 10]\n",
    "\n",
    "# # Membuat objek dataset\n",
    "# dataset = tf.data.Dataset.from_tensor_slices(data)\n",
    "\n",
    "# # Menampilkan isi dataset\n",
    "\n",
    "# dataset = dataset.batch(5)\n",
    "# for element in dataset:\n",
    "#     print(element.numpy())\n",
    "\n"
   ]
  },
  {
   "cell_type": "code",
   "execution_count": 34,
   "metadata": {},
   "outputs": [],
   "source": [
    "# `train_y = train.pop(\"Species\")`"
   ]
  },
  {
   "cell_type": "code",
   "execution_count": 35,
   "metadata": {},
   "outputs": [
    {
     "name": "stdout",
     "output_type": "stream",
     "text": [
      "<bound method NDFrame.keys of      SepalLength  SepalWidth  PetalLength  PetalWidth\n",
      "0            6.4         2.8          5.6         2.2\n",
      "1            5.0         2.3          3.3         1.0\n",
      "2            4.9         2.5          4.5         1.7\n",
      "3            4.9         3.1          1.5         0.1\n",
      "4            5.7         3.8          1.7         0.3\n",
      "..           ...         ...          ...         ...\n",
      "115          5.5         2.6          4.4         1.2\n",
      "116          5.7         3.0          4.2         1.2\n",
      "117          4.4         2.9          1.4         0.2\n",
      "118          4.8         3.0          1.4         0.1\n",
      "119          5.5         2.4          3.7         1.0\n",
      "\n",
      "[120 rows x 4 columns]>\n"
     ]
    }
   ],
   "source": [
    "print(train.keys)"
   ]
  },
  {
   "cell_type": "code",
   "execution_count": 36,
   "metadata": {},
   "outputs": [
    {
     "name": "stdout",
     "output_type": "stream",
     "text": [
      "[NumericColumn(key='SepalLength', shape=(1,), default_value=None, dtype=tf.float32, normalizer_fn=None), NumericColumn(key='SepalWidth', shape=(1,), default_value=None, dtype=tf.float32, normalizer_fn=None), NumericColumn(key='PetalLength', shape=(1,), default_value=None, dtype=tf.float32, normalizer_fn=None), NumericColumn(key='PetalWidth', shape=(1,), default_value=None, dtype=tf.float32, normalizer_fn=None)]\n"
     ]
    }
   ],
   "source": [
    "feature_columns2 = []\n",
    "for x in train.keys():\n",
    "    #  keys() tidak hanya dimiliki oleh dict tapi juga dimiliki oleh pandas dataframe\n",
    "    # ambil semua kolom yang ada di dalam train dan kemudian appned ke dalamn sebuah list kosong \n",
    "    feature_columns2.append(tf.feature_column.numeric_column(key=x))\n",
    "\n",
    "print(feature_columns2) "
   ]
  },
  {
   "cell_type": "code",
   "execution_count": 37,
   "metadata": {},
   "outputs": [
    {
     "name": "stdout",
     "output_type": "stream",
     "text": [
      "WARNING:tensorflow:From C:\\Users\\Teddy Dharma\\AppData\\Local\\Temp\\ipykernel_29636\\2373516741.py:2: DNNClassifierV2.__init__ (from tensorflow_estimator.python.estimator.canned.dnn) is deprecated and will be removed in a future version.\n",
      "Instructions for updating:\n",
      "Use tf.keras instead.\n",
      "WARNING:tensorflow:From c:\\Users\\Teddy Dharma\\AppData\\Local\\Programs\\Python\\Python311\\Lib\\site-packages\\tensorflow_estimator\\python\\estimator\\head\\head_utils.py:59: MultiClassHead.__init__ (from tensorflow_estimator.python.estimator.head.multi_class_head) is deprecated and will be removed in a future version.\n",
      "Instructions for updating:\n",
      "Use tf.keras instead.\n",
      "INFO:tensorflow:Using default config.\n",
      "WARNING:tensorflow:Using temporary folder as model directory: C:\\Users\\TEDDYD~1\\AppData\\Local\\Temp\\tmp2laslwpe\n",
      "INFO:tensorflow:Using config: {'_model_dir': 'C:\\\\Users\\\\TEDDYD~1\\\\AppData\\\\Local\\\\Temp\\\\tmp2laslwpe', '_tf_random_seed': None, '_save_summary_steps': 100, '_save_checkpoints_steps': None, '_save_checkpoints_secs': 600, '_session_config': allow_soft_placement: true\n",
      "graph_options {\n",
      "  rewrite_options {\n",
      "    meta_optimizer_iterations: ONE\n",
      "  }\n",
      "}\n",
      ", '_keep_checkpoint_max': 5, '_keep_checkpoint_every_n_hours': 10000, '_log_step_count_steps': 100, '_train_distribute': None, '_device_fn': None, '_protocol': None, '_eval_distribute': None, '_experimental_distribute': None, '_experimental_max_worker_delay_secs': None, '_session_creation_timeout_secs': 7200, '_checkpoint_save_graph_def': True, '_service': None, '_cluster_spec': ClusterSpec({}), '_task_type': 'worker', '_task_id': 0, '_global_id_in_cluster': 0, '_master': '', '_evaluation_master': '', '_is_chief': True, '_num_ps_replicas': 0, '_num_worker_replicas': 1}\n"
     ]
    }
   ],
   "source": [
    "#  membuat model neural network\n",
    "modelDNN = tf.estimator.DNNClassifier(\n",
    "    feature_columns=feature_columns2, \n",
    "\n",
    "    hidden_units=[30, 10],\n",
    "    # hidden_units=[30, 10], menandakan akan dibangun 30 layers dan setiap  nodes akan ada 10 layers\n",
    "    n_classes=3\n",
    ")\n",
    "# jadi bisa diakakan node 1 = input node = 10 layers\n",
    "# hidden layers = hidden layer = 10 layers\n",
    "# output layers = 10 layers dan ada 3 kelas yang bisa dijadikan acuan klasifikasi"
   ]
  },
  {
   "cell_type": "code",
   "execution_count": 38,
   "metadata": {},
   "outputs": [
    {
     "data": {
      "text/plain": [
       "0      2\n",
       "1      1\n",
       "2      2\n",
       "3      0\n",
       "4      0\n",
       "      ..\n",
       "115    1\n",
       "116    1\n",
       "117    0\n",
       "118    0\n",
       "119    1\n",
       "Name: Species, Length: 120, dtype: int64"
      ]
     },
     "execution_count": 38,
     "metadata": {},
     "output_type": "execute_result"
    }
   ],
   "source": [
    "train_y"
   ]
  },
  {
   "cell_type": "code",
   "execution_count": 39,
   "metadata": {},
   "outputs": [
    {
     "data": {
      "text/html": [
       "<div>\n",
       "<style scoped>\n",
       "    .dataframe tbody tr th:only-of-type {\n",
       "        vertical-align: middle;\n",
       "    }\n",
       "\n",
       "    .dataframe tbody tr th {\n",
       "        vertical-align: top;\n",
       "    }\n",
       "\n",
       "    .dataframe thead th {\n",
       "        text-align: right;\n",
       "    }\n",
       "</style>\n",
       "<table border=\"1\" class=\"dataframe\">\n",
       "  <thead>\n",
       "    <tr style=\"text-align: right;\">\n",
       "      <th></th>\n",
       "      <th>SepalLength</th>\n",
       "      <th>SepalWidth</th>\n",
       "      <th>PetalLength</th>\n",
       "      <th>PetalWidth</th>\n",
       "    </tr>\n",
       "  </thead>\n",
       "  <tbody>\n",
       "    <tr>\n",
       "      <th>0</th>\n",
       "      <td>6.4</td>\n",
       "      <td>2.8</td>\n",
       "      <td>5.6</td>\n",
       "      <td>2.2</td>\n",
       "    </tr>\n",
       "    <tr>\n",
       "      <th>1</th>\n",
       "      <td>5.0</td>\n",
       "      <td>2.3</td>\n",
       "      <td>3.3</td>\n",
       "      <td>1.0</td>\n",
       "    </tr>\n",
       "    <tr>\n",
       "      <th>2</th>\n",
       "      <td>4.9</td>\n",
       "      <td>2.5</td>\n",
       "      <td>4.5</td>\n",
       "      <td>1.7</td>\n",
       "    </tr>\n",
       "    <tr>\n",
       "      <th>3</th>\n",
       "      <td>4.9</td>\n",
       "      <td>3.1</td>\n",
       "      <td>1.5</td>\n",
       "      <td>0.1</td>\n",
       "    </tr>\n",
       "    <tr>\n",
       "      <th>4</th>\n",
       "      <td>5.7</td>\n",
       "      <td>3.8</td>\n",
       "      <td>1.7</td>\n",
       "      <td>0.3</td>\n",
       "    </tr>\n",
       "  </tbody>\n",
       "</table>\n",
       "</div>"
      ],
      "text/plain": [
       "   SepalLength  SepalWidth  PetalLength  PetalWidth\n",
       "0          6.4         2.8          5.6         2.2\n",
       "1          5.0         2.3          3.3         1.0\n",
       "2          4.9         2.5          4.5         1.7\n",
       "3          4.9         3.1          1.5         0.1\n",
       "4          5.7         3.8          1.7         0.3"
      ]
     },
     "execution_count": 39,
     "metadata": {},
     "output_type": "execute_result"
    }
   ],
   "source": [
    "train.head()"
   ]
  },
  {
   "cell_type": "code",
   "execution_count": 40,
   "metadata": {},
   "outputs": [
    {
     "data": {
      "text/plain": [
       "(120, 4)"
      ]
     },
     "execution_count": 40,
     "metadata": {},
     "output_type": "execute_result"
    }
   ],
   "source": [
    "train.shape"
   ]
  },
  {
   "cell_type": "code",
   "execution_count": 41,
   "metadata": {},
   "outputs": [],
   "source": [
    "# # proses training\n",
    "\n",
    "\n",
    "\n",
    "# modelDNN.train(\n",
    "#     #  def input_function(features, labels, training=True,batch_size = 256):\n",
    "#     input_fn=lambda: input_function(train, train_y, training=True),\n",
    "#  steps = 5000 menandakan ada berapa banyak iterasi yang akan digunakan\n",
    "#     steps = 5000\n",
    "# )\n",
    "# # len_args = len(inspect.getfullargspec(func)[0]\n",
    "\n",
    "\n",
    "# # from core\n",
    "#\n",
    "\n",
    "\n",
    "# links to model : https://colab.research.google.com/drive/18gC1hcivxCOOCaAgbSXYKgbJNlPwqjcN#scrollTo=yE5UmIcrDlL1 (tedi dharmaa)"
   ]
  },
  {
   "cell_type": "code",
   "execution_count": 42,
   "metadata": {},
   "outputs": [],
   "source": [
    "#  perbedaan dari clussterisasi dengan classification\n",
    "#  pada clusterisasi maka tidak akan ada label penentu (class)\n",
    "#  pada classification maka akan ada label penentu (class)"
   ]
  },
  {
   "cell_type": "markdown",
   "metadata": {},
   "source": [
    "CLUSTERING"
   ]
  },
  {
   "cell_type": "code",
   "execution_count": 43,
   "metadata": {},
   "outputs": [],
   "source": [
    "# aturan clustering\n",
    "# 0 menandakan hari ke n + 1 adalah hari cerah dan 1 menandakn hari yang mendung\n",
    "# peluang di hari pertama mendung adalah 80% \n",
    "#  peluang jika hari ke n + 1 mendung dimana hari ke n cerah adalah 0.3\n",
    "#  peluang jika hari ke n + 1 cerah dimana hari ke n mendung adalah 0.2 \n",
    "# standar deviasi dan mean dari hari yang mendung  adalah 5 dan 0 serta standar deviasi dan mean dari hari yang cerah adalah 10 dan 15 \n",
    "# \n",
    "\n",
    "# note : tensorflow_probabilty merupakan library yang berbeda dari tensorflow biasa jadi harus dilakukan instalasi dl\n",
    "import tensorflow_probability as tfp\n",
    "tfd = tfp.distributions\n",
    "\n",
    "firs_day = tfd.Categorical(probs=[0.8, 0.2])\n",
    "transition_day = tfd.Categorical(probs=[[0.7, 0.3],[0.2, 0.8]])\n",
    "\n",
    "observation_distribution = tfd.Normal(loc=[0. , 15.], scale = [5., 10.])"
   ]
  },
  {
   "cell_type": "code",
   "execution_count": null,
   "metadata": {},
   "outputs": [],
   "source": []
  },
  {
   "cell_type": "code",
   "execution_count": 44,
   "metadata": {},
   "outputs": [],
   "source": [
    "markov_model = tfd.HiddenMarkovModel(\n",
    "    initial_distribution = firs_day,\n",
    "    transition_distribution = transition_day,\n",
    "    observation_distribution = observation_distribution,\n",
    "    num_steps = 7\n",
    ")\n",
    "# num steps = 7 akan bertindak untuk melakukan prediksi 7 hari kedepan "
   ]
  },
  {
   "cell_type": "code",
   "execution_count": 45,
   "metadata": {},
   "outputs": [
    {
     "name": "stdout",
     "output_type": "stream",
     "text": [
      "tf.Tensor([3.        5.9999995 7.4999995 8.25      8.625     8.812501  8.90625  ], shape=(7,), dtype=float32)\n",
      "[3.        5.9999995 7.4999995 8.25      8.625     8.812501  8.90625  ]\n"
     ]
    }
   ],
   "source": [
    "mean = markov_model.mean()\n",
    "# tf.compat.v1.Session() as sess:? \n",
    "print(mean)\n",
    "# karena masihn dalam bentuk tensor maka gunakan numpy() agar diterjemahlkan ke dalanm bentuk numpy array\n",
    "print(mean.numpy())\n",
    "# yang diprediksi disini adalah temperatur"
   ]
  },
  {
   "cell_type": "markdown",
   "metadata": {},
   "source": []
  }
 ],
 "metadata": {
  "kernelspec": {
   "display_name": "Python 3",
   "language": "python",
   "name": "python3"
  },
  "language_info": {
   "codemirror_mode": {
    "name": "ipython",
    "version": 3
   },
   "file_extension": ".py",
   "mimetype": "text/x-python",
   "name": "python",
   "nbconvert_exporter": "python",
   "pygments_lexer": "ipython3",
   "version": "3.11.2"
  },
  "orig_nbformat": 4
 },
 "nbformat": 4,
 "nbformat_minor": 2
}
