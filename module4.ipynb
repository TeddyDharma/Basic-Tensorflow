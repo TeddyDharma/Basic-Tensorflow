{
 "cells": [
  {
   "cell_type": "code",
   "execution_count": 56,
   "metadata": {},
   "outputs": [],
   "source": [
    "# neural network"
   ]
  },
  {
   "cell_type": "code",
   "execution_count": 57,
   "metadata": {},
   "outputs": [],
   "source": [
    "from tensorflow import keras\n",
    "import tensorflow as tf\n",
    "import numpy as np\n",
    "import matplotlib.pyplot as plt"
   ]
  },
  {
   "cell_type": "code",
   "execution_count": 58,
   "metadata": {},
   "outputs": [],
   "source": [
    "# load dataset \n",
    "data = keras.datasets.fashion_mnist\n",
    "#  fashion_mist berisikan gambar yang akan mennjadi data"
   ]
  },
  {
   "cell_type": "code",
   "execution_count": 59,
   "metadata": {},
   "outputs": [],
   "source": [
    "(train_image, train_labels), (test_image, test_train) = data.load_data()\n",
    "# load_dataset akan mengembalikan tuple, jadi buat tuple yang sesuai dengan yang ada di atas"
   ]
  },
  {
   "cell_type": "code",
   "execution_count": 60,
   "metadata": {},
   "outputs": [
    {
     "data": {
      "text/plain": [
       "(60000, 28, 28)"
      ]
     },
     "execution_count": 60,
     "metadata": {},
     "output_type": "execute_result"
    }
   ],
   "source": [
    "# mengetahui ukuran train dataset\n",
    "train_image.shape\n",
    "# (60000, 28, 28) menyatakana ada 6000 data (baris terluar) dan 28,28 menyatakan panjang x lebar (matrilks dua dimensi) di dalam dari baris data"
   ]
  },
  {
   "cell_type": "code",
   "execution_count": 61,
   "metadata": {},
   "outputs": [
    {
     "name": "stdout",
     "output_type": "stream",
     "text": [
      "data ke 1\n",
      "[0 0 0 0 0 0 0 0 0 0 0 0 0 0 0 0 0 0 0 0 0 0 0 0 0 0 0 0]\n",
      "[0 0 0 0 0 0 0 0 0 0 0 0 0 0 0 0 0 0 0 0 0 0 0 0 0 0 0 0]\n",
      "[0 0 0 0 0 0 0 0 0 0 0 0 0 0 0 0 0 0 0 0 0 0 0 0 0 0 0 0]\n",
      "[ 0  0  0  0  0  0  0  0  0  0  0  0  1  0  0 13 73  0  0  1  4  0  0  0\n",
      "  0  1  1  0]\n",
      "[  0   0   0   0   0   0   0   0   0   0   0   0   3   0  36 136 127  62\n",
      "  54   0   0   0   1   3   4   0   0   3]\n",
      "[  0   0   0   0   0   0   0   0   0   0   0   0   6   0 102 204 176 134\n",
      " 144 123  23   0   0   0   0  12  10   0]\n",
      "[  0   0   0   0   0   0   0   0   0   0   0   0   0   0 155 236 207 178\n",
      " 107 156 161 109  64  23  77 130  72  15]\n",
      "[  0   0   0   0   0   0   0   0   0   0   0   1   0  69 207 223 218 216\n",
      " 216 163 127 121 122 146 141  88 172  66]\n",
      "[  0   0   0   0   0   0   0   0   0   1   1   1   0 200 232 232 233 229\n",
      " 223 223 215 213 164 127 123 196 229   0]\n",
      "[  0   0   0   0   0   0   0   0   0   0   0   0   0 183 225 216 223 228\n",
      " 235 227 224 222 224 221 223 245 173   0]\n",
      "[  0   0   0   0   0   0   0   0   0   0   0   0   0 193 228 218 213 198\n",
      " 180 212 210 211 213 223 220 243 202   0]\n",
      "[  0   0   0   0   0   0   0   0   0   1   3   0  12 219 220 212 218 192\n",
      " 169 227 208 218 224 212 226 197 209  52]\n",
      "[  0   0   0   0   0   0   0   0   0   0   6   0  99 244 222 220 218 203\n",
      " 198 221 215 213 222 220 245 119 167  56]\n",
      "[  0   0   0   0   0   0   0   0   0   4   0   0  55 236 228 230 228 240\n",
      " 232 213 218 223 234 217 217 209  92   0]\n",
      "[  0   0   1   4   6   7   2   0   0   0   0   0 237 226 217 223 222 219\n",
      " 222 221 216 223 229 215 218 255  77   0]\n",
      "[  0   3   0   0   0   0   0   0   0  62 145 204 228 207 213 221 218 208\n",
      " 211 218 224 223 219 215 224 244 159   0]\n",
      "[  0   0   0   0  18  44  82 107 189 228 220 222 217 226 200 205 211 230\n",
      " 224 234 176 188 250 248 233 238 215   0]\n",
      "[  0  57 187 208 224 221 224 208 204 214 208 209 200 159 245 193 206 223\n",
      " 255 255 221 234 221 211 220 232 246   0]\n",
      "[  3 202 228 224 221 211 211 214 205 205 205 220 240  80 150 255 229 221\n",
      " 188 154 191 210 204 209 222 228 225   0]\n",
      "[ 98 233 198 210 222 229 229 234 249 220 194 215 217 241  65  73 106 117\n",
      " 168 219 221 215 217 223 223 224 229  29]\n",
      "[ 75 204 212 204 193 205 211 225 216 185 197 206 198 213 240 195 227 245\n",
      " 239 223 218 212 209 222 220 221 230  67]\n",
      "[ 48 203 183 194 213 197 185 190 194 192 202 214 219 221 220 236 225 216\n",
      " 199 206 186 181 177 172 181 205 206 115]\n",
      "[  0 122 219 193 179 171 183 196 204 210 213 207 211 210 200 196 194 191\n",
      " 195 191 198 192 176 156 167 177 210  92]\n",
      "[  0   0  74 189 212 191 175 172 175 181 185 188 189 188 193 198 204 209\n",
      " 210 210 211 188 188 194 192 216 170   0]\n",
      "[  2   0   0   0  66 200 222 237 239 242 246 243 244 221 220 193 191 179\n",
      " 182 182 181 176 166 168  99  58   0   0]\n",
      "[ 0  0  0  0  0  0  0 40 61 44 72 41 35  0  0  0  0  0  0  0  0  0  0  0\n",
      "  0  0  0  0]\n",
      "[0 0 0 0 0 0 0 0 0 0 0 0 0 0 0 0 0 0 0 0 0 0 0 0 0 0 0 0]\n",
      "[0 0 0 0 0 0 0 0 0 0 0 0 0 0 0 0 0 0 0 0 0 0 0 0 0 0 0 0]\n"
     ]
    }
   ],
   "source": [
    "i = 1\n",
    "# ini merupakan data 28 x 28 yang ada di dalam data train \n",
    "for x in range(1): \n",
    "    print(f'data ke {i}')\n",
    "    for y in range(28): \n",
    "        print(train_image[x][y])\n",
    "    i += 1\n",
    "# note : Ketika gambar diterjemahkan menjadi array, angka 0 sering kali mengacu pada intensitas piksel yang sangat rendah atau kehadiran warna yang rendah pada posisi tertentu dalam gambar"
   ]
  },
  {
   "cell_type": "code",
   "execution_count": 62,
   "metadata": {},
   "outputs": [
    {
     "data": {
      "text/plain": [
       "array([9, 0, 0, 3, 0, 2, 7, 2, 5, 5], dtype=uint8)"
      ]
     },
     "execution_count": 62,
     "metadata": {},
     "output_type": "execute_result"
    }
   ],
   "source": [
    "#  semua train labels\n",
    "train_labels[:10]"
   ]
  },
  {
   "cell_type": "code",
   "execution_count": 63,
   "metadata": {},
   "outputs": [],
   "source": [
    "#  link fashion minist dataset : https://www.kaggle.com/datasets/zalando-research/fashionmnist?select=fashion-mnist_train.csv\n",
    "class_name = ['T-shirt/top', 'Trouser', 'Pullover', 'Dress', 'Coat',\n",
    "               'Sandal', 'Shirt', 'Sneaker', 'Bag', 'Ankle boot']\n"
   ]
  },
  {
   "cell_type": "code",
   "execution_count": 64,
   "metadata": {},
   "outputs": [
    {
     "data": {
      "image/png": "[encoded data removed]",
      "text/plain": [
       "<Figure size 640x480 with 2 Axes>"
      ]
     },
     "metadata": {},
     "output_type": "display_data"
    }
   ],
   "source": [
    "#  melihat apa yang isi dataset pada index 3\n",
    "plt.figure()\n",
    "plt.imshow(train_image[3])\n",
    "plt.colorbar()\n",
    "\n",
    "plt.show()\n",
    "# ini merupakana gambar pada train_image index ke 1"
   ]
  },
  {
   "cell_type": "code",
   "execution_count": 65,
   "metadata": {},
   "outputs": [
    {
     "name": "stdout",
     "output_type": "stream",
     "text": [
      "data ke 2\n",
      "[0 0 0 0 0 0 0 0 0 0 0 0 0 0 0 0 0 0 0 0 0 0 0 0 0 0 0 0]\n",
      "[0 0 0 0 0 0 0 0 0 0 0 0 0 0 0 0 0 0 0 0 0 0 0 0 0 0 0 0]\n",
      "[0 0 0 0 0 0 0 0 0 0 0 0 0 0 0 0 0 0 0 0 0 0 0 0 0 0 0 0]\n",
      "[ 0  0  0  0  0  0  0  0  0  0  0  0  1  0  0 13 73  0  0  1  4  0  0  0\n",
      "  0  1  1  0]\n",
      "[  0   0   0   0   0   0   0   0   0   0   0   0   3   0  36 136 127  62\n",
      "  54   0   0   0   1   3   4   0   0   3]\n",
      "[  0   0   0   0   0   0   0   0   0   0   0   0   6   0 102 204 176 134\n",
      " 144 123  23   0   0   0   0  12  10   0]\n",
      "[  0   0   0   0   0   0   0   0   0   0   0   0   0   0 155 236 207 178\n",
      " 107 156 161 109  64  23  77 130  72  15]\n",
      "[  0   0   0   0   0   0   0   0   0   0   0   1   0  69 207 223 218 216\n",
      " 216 163 127 121 122 146 141  88 172  66]\n",
      "[  0   0   0   0   0   0   0   0   0   1   1   1   0 200 232 232 233 229\n",
      " 223 223 215 213 164 127 123 196 229   0]\n",
      "[  0   0   0   0   0   0   0   0   0   0   0   0   0 183 225 216 223 228\n",
      " 235 227 224 222 224 221 223 245 173   0]\n",
      "[  0   0   0   0   0   0   0   0   0   0   0   0   0 193 228 218 213 198\n",
      " 180 212 210 211 213 223 220 243 202   0]\n",
      "[  0   0   0   0   0   0   0   0   0   1   3   0  12 219 220 212 218 192\n",
      " 169 227 208 218 224 212 226 197 209  52]\n",
      "[  0   0   0   0   0   0   0   0   0   0   6   0  99 244 222 220 218 203\n",
      " 198 221 215 213 222 220 245 119 167  56]\n",
      "[  0   0   0   0   0   0   0   0   0   4   0   0  55 236 228 230 228 240\n",
      " 232 213 218 223 234 217 217 209  92   0]\n",
      "[  0   0   1   4   6   7   2   0   0   0   0   0 237 226 217 223 222 219\n",
      " 222 221 216 223 229 215 218 255  77   0]\n",
      "[  0   3   0   0   0   0   0   0   0  62 145 204 228 207 213 221 218 208\n",
      " 211 218 224 223 219 215 224 244 159   0]\n",
      "[  0   0   0   0  18  44  82 107 189 228 220 222 217 226 200 205 211 230\n",
      " 224 234 176 188 250 248 233 238 215   0]\n",
      "[  0  57 187 208 224 221 224 208 204 214 208 209 200 159 245 193 206 223\n",
      " 255 255 221 234 221 211 220 232 246   0]\n",
      "[  3 202 228 224 221 211 211 214 205 205 205 220 240  80 150 255 229 221\n",
      " 188 154 191 210 204 209 222 228 225   0]\n",
      "[ 98 233 198 210 222 229 229 234 249 220 194 215 217 241  65  73 106 117\n",
      " 168 219 221 215 217 223 223 224 229  29]\n",
      "[ 75 204 212 204 193 205 211 225 216 185 197 206 198 213 240 195 227 245\n",
      " 239 223 218 212 209 222 220 221 230  67]\n",
      "[ 48 203 183 194 213 197 185 190 194 192 202 214 219 221 220 236 225 216\n",
      " 199 206 186 181 177 172 181 205 206 115]\n",
      "[  0 122 219 193 179 171 183 196 204 210 213 207 211 210 200 196 194 191\n",
      " 195 191 198 192 176 156 167 177 210  92]\n",
      "[  0   0  74 189 212 191 175 172 175 181 185 188 189 188 193 198 204 209\n",
      " 210 210 211 188 188 194 192 216 170   0]\n",
      "[  2   0   0   0  66 200 222 237 239 242 246 243 244 221 220 193 191 179\n",
      " 182 182 181 176 166 168  99  58   0   0]\n",
      "[ 0  0  0  0  0  0  0 40 61 44 72 41 35  0  0  0  0  0  0  0  0  0  0  0\n",
      "  0  0  0  0]\n",
      "[0 0 0 0 0 0 0 0 0 0 0 0 0 0 0 0 0 0 0 0 0 0 0 0 0 0 0 0]\n",
      "[0 0 0 0 0 0 0 0 0 0 0 0 0 0 0 0 0 0 0 0 0 0 0 0 0 0 0 0]\n"
     ]
    }
   ],
   "source": [
    "#  data preprocessing \n",
    "# train_image = train_image / 255.0 \n",
    "for x in range(1): \n",
    "    print(f'data ke {i}')\n",
    "    for y in range(28): \n",
    "        print(train_image[x][y])\n",
    "    i += 1\n"
   ]
  },
  {
   "cell_type": "code",
   "execution_count": 66,
   "metadata": {},
   "outputs": [],
   "source": [
    "train_image = train_image / 255.0 \n",
    "#  dibagi 255 agar data yang dihasilkana adalah antara 0 dan 1 \n",
    "test_image = test_image / 255.0 \n",
    "#  /255 ini merupakan bentuk dari normalisasi data"
   ]
  },
  {
   "cell_type": "code",
   "execution_count": 67,
   "metadata": {},
   "outputs": [],
   "source": [
    "# memmbuat model deep learning neural network \n",
    "model = keras.Sequential([\n",
    "    keras.layers.Flatten(input_shape = (28,28)),\n",
    "    # flatten akan mengubah matriks yang awalnya 28 x 28 akan menjadi satu matiks dengan jumlah elemen sama dengan 784  \n",
    "    keras.layers.Dense(128, activation='relu'), \n",
    "    #  yang kedua ini akan berperan sebgai hidden layer \n",
    "    #  jadi di dalam hidden layer akan ada 128 node \n",
    "    keras.layers.Dense(10, activation='softmax')\n",
    "    # di dalam output layer terdapat 10 node karenea ada 10 class / catgory\n",
    "    #  yang ketiga ini akan berperan sebagai outut layer\n",
    "    # dengan activation='softmax' maka yang dihsilakan nilai dari range 0 dan 1 \n",
    "])"
   ]
  },
  {
   "cell_type": "code",
   "execution_count": 68,
   "metadata": {},
   "outputs": [],
   "source": [
    "# compiling the model \n",
    "model.compile(optimizer='adam',\n",
    "              loss='sparse_categorical_crossentropy',\n",
    "              metrics=['accuracy'])\n",
    "# link adam optimization : https://www.youtube.com/watch?v=JXQT_vxqwIs"
   ]
  },
  {
   "cell_type": "code",
   "execution_count": 69,
   "metadata": {},
   "outputs": [
    {
     "name": "stdout",
     "output_type": "stream",
     "text": [
      "Epoch 1/10\n",
      "1875/1875 [==============================] - 2s 896us/step - loss: 0.5037 - accuracy: 0.8229\n",
      "Epoch 2/10\n",
      "1875/1875 [==============================] - 2s 899us/step - loss: 0.3810 - accuracy: 0.8612\n",
      "Epoch 3/10\n",
      "1875/1875 [==============================] - 2s 915us/step - loss: 0.3394 - accuracy: 0.8745\n",
      "Epoch 4/10\n",
      "1875/1875 [==============================] - 2s 904us/step - loss: 0.3135 - accuracy: 0.8860\n",
      "Epoch 5/10\n",
      "1875/1875 [==============================] - 2s 947us/step - loss: 0.2970 - accuracy: 0.8899\n",
      "Epoch 6/10\n",
      "1875/1875 [==============================] - 2s 953us/step - loss: 0.2841 - accuracy: 0.8944\n",
      "Epoch 7/10\n",
      "1875/1875 [==============================] - 2s 963us/step - loss: 0.2710 - accuracy: 0.8991\n",
      "Epoch 8/10\n",
      "1875/1875 [==============================] - 2s 986us/step - loss: 0.2587 - accuracy: 0.9031\n",
      "Epoch 9/10\n",
      "1875/1875 [==============================] - 2s 883us/step - loss: 0.2528 - accuracy: 0.9057\n",
      "Epoch 10/10\n",
      "1875/1875 [==============================] - 2s 910us/step - loss: 0.2410 - accuracy: 0.9105\n"
     ]
    },
    {
     "data": {
      "text/plain": [
       "<keras.src.callbacks.History at 0x1b71537e250>"
      ]
     },
     "execution_count": 69,
     "metadata": {},
     "output_type": "execute_result"
    }
   ],
   "source": [
    "#  train the model \n",
    "model.fit(train_image, train_labels, epochs=10)"
   ]
  },
  {
   "cell_type": "code",
   "execution_count": 70,
   "metadata": {},
   "outputs": [
    {
     "name": "stdout",
     "output_type": "stream",
     "text": [
      "313/313 [==============================] - 0s 651us/step - loss: 0.3467 - accuracy: 0.8843\n",
      "akurasi yang diperoleh adalah : 0.8842999935150146\n"
     ]
    }
   ],
   "source": [
    "#  evaluate the model\n",
    "loss, acc = model.evaluate(test_image, test_train, verbose=1)\n",
    "#  kembalian dari evaliate adalah dict | Any | list\n",
    "print(f'akurasi yang diperoleh adalah : {acc}')\n",
    "#  akurasi yang diperoleh adalah : 0.8853999972343445\n",
    "#  karena akurasi yang diperoleh lebih kecil dibandingkan dengan akurasi saat dilakukan training maka bisa disimpulkan bahwa model yang sudah dirancang mengalami overfitting karena model mengingat semua pola yang ada di saat di lakukan pelatihan \n",
    "#  dan ketika bertemu dengan data baru yang tidak pernah dilihat sebelumnya saat pelatihan maaka otomatis model akan sedikit kebingungan dan ini menyebabkan akurasi sedikit menurun "
   ]
  },
  {
   "cell_type": "code",
   "execution_count": 71,
   "metadata": {},
   "outputs": [
    {
     "name": "stdout",
     "output_type": "stream",
     "text": [
      "313/313 [==============================] - 0s 580us/step\n",
      "isi dari prediction : [[3.93853554e-07 1.81169316e-12 1.72302095e-09 ... 1.03266090e-02\n",
      "  6.81497028e-08 9.89180505e-01]\n",
      " [2.05035417e-06 2.53746232e-15 9.99116123e-01 ... 3.70529057e-15\n",
      "  6.15013387e-11 2.71305225e-15]\n",
      " [4.97954638e-08 1.00000000e+00 2.89665708e-10 ... 7.78514270e-27\n",
      "  7.51705352e-14 7.17990548e-16]\n",
      " ...\n",
      " [1.34405345e-05 5.51659890e-12 1.42825149e-06 ... 2.93032417e-12\n",
      "  9.99965787e-01 7.01923498e-15]\n",
      " [8.06221507e-08 9.99862552e-01 4.32035030e-08 ... 2.55645449e-15\n",
      "  3.60339558e-09 7.32494998e-09]\n",
      " [2.29556594e-04 2.90301443e-07 7.29606518e-06 ... 1.14064058e-02\n",
      "  8.93982127e-04 1.24841332e-04]]\n"
     ]
    }
   ],
   "source": [
    "#  melakukan validasi prediksi pada model yang sudah dibuat\n",
    "prediction = model.predict(test_image)\n",
    "print(f'isi dari prediction : {prediction}')"
   ]
  },
  {
   "cell_type": "code",
   "execution_count": 72,
   "metadata": {},
   "outputs": [
    {
     "name": "stdout",
     "output_type": "stream",
     "text": [
      "9\n",
      "Ankle boot\n"
     ]
    },
    {
     "data": {
      "image/png": "[encoded data removed]",
      "text/plain": [
       "<Figure size 640x480 with 2 Axes>"
      ]
     },
     "metadata": {},
     "output_type": "display_data"
    }
   ],
   "source": [
    "#  apa yanga akan dikeluarkana oleh model jika dimasukan data dengan index ke 0 pada data test\n",
    "print(f'{np.argmax(prediction[0])}')\n",
    "\n",
    "print(class_name[np.argmax(prediction[0])])\n",
    "\n",
    "plt.figure()\n",
    "plt.imshow(test_image[0])\n",
    "plt.colorbar()\n",
    "plt.grid(False)\n",
    "plt.show()\n",
    "# # class_name = ['T-shirt/top', 'Trouser', 'Pullover', 'Dress', 'Coat',\n",
    "#                'Sandal', 'Shirt', 'Sneaker', 'Bag', 'Ankle boot']\n",
    "# berdasarkan class_name, yanga ada di index ke 9 adalah ankle boot\n",
    "#  \"nila tertinggi dari array yang digunakan untuk menentukan kategori class,\""
   ]
  },
  {
   "cell_type": "code",
   "execution_count": 73,
   "metadata": {},
   "outputs": [
    {
     "data": {
      "text/plain": [
       "array([4.9795464e-08, 1.0000000e+00, 2.8966571e-10, 1.2484426e-08,\n",
       "       5.5813256e-09, 2.1008475e-21, 2.6433624e-11, 7.7851427e-27,\n",
       "       7.5170535e-14, 7.1799055e-16], dtype=float32)"
      ]
     },
     "execution_count": 73,
     "metadata": {},
     "output_type": "execute_result"
    }
   ],
   "source": [
    "prediction[2]\n",
    "# yang dihasilikan adalah array([1.2584256e-07, 9.9999988e-01, 3.4647469e-11, 1.6510233e-09,\n",
    "    #    3.2504641e-09, 6.1097169e-20, 2.1857302e-11, 1.2293774e-24,\n",
    "    #    2.4066699e-12, 9.1616263e-21], dtype=float32)\n",
    "# yang dimana setiap posisi merupakana probabilitas dari tebakan berdasarkan kelas, dan pada prediksi index ke 2, nilai tertinggi yaitu index 1 yang dimana index 1 merupakan kategori trousher"
   ]
  },
  {
   "cell_type": "code",
   "execution_count": 74,
   "metadata": {},
   "outputs": [
    {
     "data": {
      "text/plain": [
       "1"
      ]
     },
     "execution_count": 74,
     "metadata": {},
     "output_type": "execute_result"
    }
   ],
   "source": [
    "np.argmax(prediction[2])\n",
    "# argmax akan mengembalikan index dengan nilai tertinggi"
   ]
  },
  {
   "cell_type": "code",
   "execution_count": 75,
   "metadata": {},
   "outputs": [
    {
     "name": "stdout",
     "output_type": "stream",
     "text": [
      "1\n",
      "Trouser\n"
     ]
    },
    {
     "data": {
      "image/png": "[encoded data removed]",
      "text/plain": [
       "<Figure size 640x480 with 2 Axes>"
      ]
     },
     "metadata": {},
     "output_type": "display_data"
    }
   ],
   "source": [
    "print(f'{np.argmax(prediction[2])}')\n",
    "\n",
    "print(class_name[np.argmax(prediction[2])])\n",
    "\n",
    "plt.figure()\n",
    "plt.imshow(test_image[2])\n",
    "plt.colorbar()\n",
    "plt.grid(False)\n",
    "plt.show()"
   ]
  },
  {
   "cell_type": "code",
   "execution_count": 77,
   "metadata": {},
   "outputs": [
    {
     "name": "stdout",
     "output_type": "stream",
     "text": [
      "1/1 [==============================] - 0s 14ms/step\n"
     ]
    },
    {
     "data": {
      "image/png": "[encoded data removed]",
      "text/plain": [
       "<Figure size 640x480 with 2 Axes>"
      ]
     },
     "metadata": {},
     "output_type": "display_data"
    }
   ],
   "source": [
    "# just make it once\n",
    "\n",
    "def call_model(images, labels):\n",
    "    class_names = ['T-shirt/top', 'Trouser', 'Pullover', 'Dress', 'Coat',\n",
    "               'Sandal', 'Shirt', 'Sneaker', 'Bag', 'Ankle boot']\n",
    "    prediction = model.predict(np.array([images]))\n",
    "    #  jangan menuliskan  prediction = model.predict(np.array(images)) ini akan menyebabkan graph error d\n",
    "    prediction_result = class_name[np.argmax(prediction)]\n",
    "    show_image(images, class_names[labels], prediction_result)\n",
    "def show_image(img, label, guess):\n",
    "  plt.figure()\n",
    "  plt.imshow(img, cmap=plt.cm.binary)\n",
    "  plt.title(\"Excpected: \" + label)\n",
    "  plt.xlabel(\"Guess: \" + guess)\n",
    "  plt.colorbar()\n",
    "  plt.grid(False)\n",
    "  plt.show()\n",
    "def get_number():\n",
    "  while True:\n",
    "    num = input(\"Pick a number: \")\n",
    "    if num.isdigit():\n",
    "      num = int(num)\n",
    "      if 0 <= num <= 1000:\n",
    "        return int(num)\n",
    "    else:\n",
    "      print(\"Try again...\")\n",
    "\n",
    "num = get_number()\n",
    "image = test_image[num]\n",
    "label = test_train[num]\n",
    "call_model(image, label)"
   ]
  },
  {
   "cell_type": "code",
   "execution_count": null,
   "metadata": {},
   "outputs": [],
   "source": []
  }
 ],
 "metadata": {
  "kernelspec": {
   "display_name": "Python 3",
   "language": "python",
   "name": "python3"
  },
  "language_info": {
   "codemirror_mode": {
    "name": "ipython",
    "version": 3
   },
   "file_extension": ".py",
   "mimetype": "text/x-python",
   "name": "python",
   "nbconvert_exporter": "python",
   "pygments_lexer": "ipython3",
   "version": "3.11.2"
  },
  "orig_nbformat": 4
 },
 "nbformat": 4,
 "nbformat_minor": 2
}
